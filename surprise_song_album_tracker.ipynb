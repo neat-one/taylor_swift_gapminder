{
 "cells": [
  {
   "cell_type": "code",
   "execution_count": 1,
   "id": "24ca6f17-871e-40c2-a766-f9ba9351df5e",
   "metadata": {},
   "outputs": [],
   "source": [
    "import pandas as pd\n",
    "import numpy as np\n",
    "from raceplotly.plots import barplot\n",
    "\n",
    "data = pd.read_csv('eras_tour_tracker.csv')\n",
    "albums = pd.read_excel('eras_tour_tracker.xlsx', sheet_name='Sheet1', engine='openpyxl')\n",
    "data = data[['CITY','Surprise Song 🎸', 'Surprise Song 🎹']]\n",
    "data.head()\n",
    "\n",
    "data['Surprise Song 🎸'] = data['Surprise Song 🎸'].map(lambda x: x.lower())\n",
    "data['Surprise Song 🎹'] = data['Surprise Song 🎹'].map(lambda x: x.lower())"
   ]
  },
  {
   "cell_type": "code",
   "execution_count": 2,
   "id": "a654be2b-e3b6-4fa2-a229-b46b860b8888",
   "metadata": {},
   "outputs": [
    {
     "data": {
      "text/html": [
       "<div>\n",
       "<style scoped>\n",
       "    .dataframe tbody tr th:only-of-type {\n",
       "        vertical-align: middle;\n",
       "    }\n",
       "\n",
       "    .dataframe tbody tr th {\n",
       "        vertical-align: top;\n",
       "    }\n",
       "\n",
       "    .dataframe thead th {\n",
       "        text-align: right;\n",
       "    }\n",
       "</style>\n",
       "<table border=\"1\" class=\"dataframe\">\n",
       "  <thead>\n",
       "    <tr style=\"text-align: right;\">\n",
       "      <th></th>\n",
       "      <th>Album</th>\n",
       "      <th>Song</th>\n",
       "    </tr>\n",
       "  </thead>\n",
       "  <tbody>\n",
       "    <tr>\n",
       "      <th>0</th>\n",
       "      <td>Debut (Taylor Swift)</td>\n",
       "      <td>Tim McGraw</td>\n",
       "    </tr>\n",
       "    <tr>\n",
       "      <th>1</th>\n",
       "      <td>Debut (Taylor Swift)</td>\n",
       "      <td>Picture to Burn</td>\n",
       "    </tr>\n",
       "    <tr>\n",
       "      <th>2</th>\n",
       "      <td>Debut (Taylor Swift)</td>\n",
       "      <td>Teardrops on My Guitar</td>\n",
       "    </tr>\n",
       "    <tr>\n",
       "      <th>3</th>\n",
       "      <td>Debut (Taylor Swift)</td>\n",
       "      <td>A Place in This World</td>\n",
       "    </tr>\n",
       "    <tr>\n",
       "      <th>4</th>\n",
       "      <td>Debut (Taylor Swift)</td>\n",
       "      <td>Cold as You</td>\n",
       "    </tr>\n",
       "  </tbody>\n",
       "</table>\n",
       "</div>"
      ],
      "text/plain": [
       "                  Album                    Song\n",
       "0  Debut (Taylor Swift)              Tim McGraw\n",
       "1  Debut (Taylor Swift)         Picture to Burn\n",
       "2  Debut (Taylor Swift)  Teardrops on My Guitar\n",
       "3  Debut (Taylor Swift)   A Place in This World\n",
       "4  Debut (Taylor Swift)             Cold as You"
      ]
     },
     "execution_count": 2,
     "metadata": {},
     "output_type": "execute_result"
    }
   ],
   "source": [
    "albums['Album'] = albums['Album'].map(lambda x: str(x).replace(' (Deluxe Edition)', '').replace(' (deluxe edition)', '').replace(' (deluxe version)', '') \\\n",
    "                                        .replace(' (Platinum Edition)', '').replace(' TV', '').replace(' (3am Edition)', '') \\\n",
    "                                        .replace(' (Lavender Edition)', '').replace(' (The Til Dawn Edition)', '').replace(' (The More Lover Chapter)', '') \\\n",
    "                                        .replace(': The Anthology', '')\n",
    "                                       )\n",
    "\n",
    "albums['Album'] = np.where(albums.Album.str.contains(\"SINGLE:\"), \"SINGLE\", albums.Album)\n",
    "albums['Album'] = np.where(albums.Album.str.contains(\"COLLAB:\"), \"COLLAB\", albums.Album)\n",
    "albums['Album'] = np.where(albums.Album.str.contains(\"COVER:\"), \"COVER\", albums.Album)\n",
    "albums['Album'] = np.where(albums.Album.str.contains(\"WRITER ONLY:\"), \"WRITER\", albums.Album)\n",
    "# albums['Album'] = np.where(albums.Album.str.contains(\"COVER:\"), \"COVER\", albums.Album)\n",
    "\n",
    "# [album[:6] for album in albums['Album'] if album[:7] == 'SINGLE:']\n",
    "\n",
    "albums.head()"
   ]
  },
  {
   "cell_type": "code",
   "execution_count": 3,
   "id": "a0a19b7a-5160-4698-9e21-db495373b4c1",
   "metadata": {},
   "outputs": [
    {
     "data": {
      "text/html": [
       "<div>\n",
       "<style scoped>\n",
       "    .dataframe tbody tr th:only-of-type {\n",
       "        vertical-align: middle;\n",
       "    }\n",
       "\n",
       "    .dataframe tbody tr th {\n",
       "        vertical-align: top;\n",
       "    }\n",
       "\n",
       "    .dataframe thead th {\n",
       "        text-align: right;\n",
       "    }\n",
       "</style>\n",
       "<table border=\"1\" class=\"dataframe\">\n",
       "  <thead>\n",
       "    <tr style=\"text-align: right;\">\n",
       "      <th></th>\n",
       "      <th>Album</th>\n",
       "      <th>Song</th>\n",
       "    </tr>\n",
       "  </thead>\n",
       "  <tbody>\n",
       "    <tr>\n",
       "      <th>0</th>\n",
       "      <td>Debut (Taylor Swift)</td>\n",
       "      <td>tim mcgraw</td>\n",
       "    </tr>\n",
       "    <tr>\n",
       "      <th>1</th>\n",
       "      <td>Debut (Taylor Swift)</td>\n",
       "      <td>picture to burn</td>\n",
       "    </tr>\n",
       "    <tr>\n",
       "      <th>2</th>\n",
       "      <td>Debut (Taylor Swift)</td>\n",
       "      <td>teardrops on my guitar</td>\n",
       "    </tr>\n",
       "    <tr>\n",
       "      <th>3</th>\n",
       "      <td>Debut (Taylor Swift)</td>\n",
       "      <td>a place in this world</td>\n",
       "    </tr>\n",
       "    <tr>\n",
       "      <th>4</th>\n",
       "      <td>Debut (Taylor Swift)</td>\n",
       "      <td>cold as you</td>\n",
       "    </tr>\n",
       "  </tbody>\n",
       "</table>\n",
       "</div>"
      ],
      "text/plain": [
       "                  Album                    Song\n",
       "0  Debut (Taylor Swift)              tim mcgraw\n",
       "1  Debut (Taylor Swift)         picture to burn\n",
       "2  Debut (Taylor Swift)  teardrops on my guitar\n",
       "3  Debut (Taylor Swift)   a place in this world\n",
       "4  Debut (Taylor Swift)             cold as you"
      ]
     },
     "execution_count": 3,
     "metadata": {},
     "output_type": "execute_result"
    }
   ],
   "source": [
    "albums['Song'] = albums['Song'].map(lambda x: str(x).replace(' TV', '').replace(' FTV', '')#.replace(' (deluxe version)', '') \\\n",
    "                                        # .replace(' (Platinum Edition)', '').replace(' TV', '').replace(' (3am Edition)', '') \\\n",
    "                                        # .replace(' (Lavender Edition)', '').replace(' (The Til Dawn Edition)', '').replace(' (The More Lover Chapter)', '') \\\n",
    "                                        # .replace(': The Anthology', '')\n",
    "                                       )\n",
    "\n",
    "albums['Song'] = albums['Song'].map(lambda x: x.lower())\n",
    "\n",
    "# albums['Song'] = np.where(albums.Song.str.contains(\" (w/\"), 'hi', albums.Song)\n",
    "# albums['Album'] = np.where(albums.Album.str.contains(\"COLLAB:\"), \"COLLAB\", albums.Album)\n",
    "# albums['Album'] = np.where(albums.Album.str.contains(\"COVER:\"), \"COVER\", albums.Album)\n",
    "# albums['Album'] = np.where(albums.Album.str.contains(\"WRITER ONLY:\"), \"WRITER\", albums.Album)\n",
    "# albums['Album'] = np.where(albums.Album.str.contains(\"COVER:\"), \"COVER\", albums.Album)\n",
    "\n",
    "# [album[:6] for album in albums['Album'] if album[:7] == 'SINGLE:']\n",
    "\n",
    "albums.head()"
   ]
  },
  {
   "cell_type": "code",
   "execution_count": 4,
   "id": "39722f0a-c52e-44d6-9945-39789844766d",
   "metadata": {},
   "outputs": [],
   "source": [
    "data2 = data.copy(deep=True)"
   ]
  },
  {
   "cell_type": "code",
   "execution_count": 5,
   "id": "18fb3904-c146-448e-bfff-82e387f3e92c",
   "metadata": {},
   "outputs": [],
   "source": [
    "ss1 = data.merge(albums, left_on=\"Surprise Song 🎸\", right_on=\"Song\", how=\"left\")"
   ]
  },
  {
   "cell_type": "code",
   "execution_count": 6,
   "id": "06a081f5-70b3-4842-b2cd-8286cf43ebf3",
   "metadata": {},
   "outputs": [],
   "source": [
    "ss2 = data.merge(albums, left_on=\"Surprise Song 🎹\", right_on=\"Song\", how=\"left\")"
   ]
  },
  {
   "cell_type": "code",
   "execution_count": 7,
   "id": "2793cb31-2a65-4350-b83b-7ea53584c3cc",
   "metadata": {},
   "outputs": [],
   "source": [
    "all_albums = pd.concat([ss1, ss2])"
   ]
  },
  {
   "cell_type": "code",
   "execution_count": 10,
   "id": "42449607-44a2-402e-9642-bc13de398d39",
   "metadata": {},
   "outputs": [
    {
     "name": "stdout",
     "output_type": "stream",
     "text": [
      "folklore\n",
      "Debut (Taylor Swift)\n",
      "evermore\n",
      "Red\n",
      "Lover\n",
      "Fearless\n",
      "Speak Now\n",
      "Midnights\n",
      "1989\n",
      "Reputation\n",
      "SINGLE\n"
     ]
    }
   ],
   "source": [
    "for alb in all_albums['Album'].unique():\n",
    "    print(alb)\n",
    "    all_albums[alb] = all_albums['Album'] == alb\n",
    "    all_albums[alb] = all_albums[alb].cumsum()"
   ]
  },
  {
   "cell_type": "code",
   "execution_count": 17,
   "id": "d7fbf713-3b88-455d-9646-b818181d0236",
   "metadata": {},
   "outputs": [
    {
     "data": {
      "text/html": [
       "<div>\n",
       "<style scoped>\n",
       "    .dataframe tbody tr th:only-of-type {\n",
       "        vertical-align: middle;\n",
       "    }\n",
       "\n",
       "    .dataframe tbody tr th {\n",
       "        vertical-align: top;\n",
       "    }\n",
       "\n",
       "    .dataframe thead th {\n",
       "        text-align: right;\n",
       "    }\n",
       "</style>\n",
       "<table border=\"1\" class=\"dataframe\">\n",
       "  <thead>\n",
       "    <tr style=\"text-align: right;\">\n",
       "      <th></th>\n",
       "      <th>CITY</th>\n",
       "      <th>Surprise Song 🎸</th>\n",
       "      <th>Surprise Song 🎹</th>\n",
       "      <th>Album</th>\n",
       "      <th>Song</th>\n",
       "      <th>folklore</th>\n",
       "      <th>Debut (Taylor Swift)</th>\n",
       "      <th>evermore</th>\n",
       "      <th>Red</th>\n",
       "      <th>Lover</th>\n",
       "      <th>Fearless</th>\n",
       "      <th>Speak Now</th>\n",
       "      <th>Midnights</th>\n",
       "      <th>1989</th>\n",
       "      <th>Reputation</th>\n",
       "      <th>SINGLE</th>\n",
       "      <th>color</th>\n",
       "    </tr>\n",
       "  </thead>\n",
       "  <tbody>\n",
       "    <tr>\n",
       "      <th>0</th>\n",
       "      <td>17-Mar-23</td>\n",
       "      <td>mirrorball</td>\n",
       "      <td>tim mcgraw</td>\n",
       "      <td>folklore</td>\n",
       "      <td>mirrorball</td>\n",
       "      <td>1</td>\n",
       "      <td>0</td>\n",
       "      <td>0</td>\n",
       "      <td>0</td>\n",
       "      <td>0</td>\n",
       "      <td>0</td>\n",
       "      <td>0</td>\n",
       "      <td>0</td>\n",
       "      <td>0</td>\n",
       "      <td>0</td>\n",
       "      <td>0</td>\n",
       "      <td>rgb(139, 82, 186)</td>\n",
       "    </tr>\n",
       "    <tr>\n",
       "      <th>1</th>\n",
       "      <td>17-Mar-23</td>\n",
       "      <td>this is me trying</td>\n",
       "      <td>state of grace</td>\n",
       "      <td>folklore</td>\n",
       "      <td>this is me trying</td>\n",
       "      <td>2</td>\n",
       "      <td>0</td>\n",
       "      <td>0</td>\n",
       "      <td>0</td>\n",
       "      <td>0</td>\n",
       "      <td>0</td>\n",
       "      <td>0</td>\n",
       "      <td>0</td>\n",
       "      <td>0</td>\n",
       "      <td>0</td>\n",
       "      <td>0</td>\n",
       "      <td>rgb(139, 82, 186)</td>\n",
       "    </tr>\n",
       "    <tr>\n",
       "      <th>2</th>\n",
       "      <td>24-Mar-23</td>\n",
       "      <td>our song</td>\n",
       "      <td>snow on the beach</td>\n",
       "      <td>Debut (Taylor Swift)</td>\n",
       "      <td>our song</td>\n",
       "      <td>2</td>\n",
       "      <td>1</td>\n",
       "      <td>0</td>\n",
       "      <td>0</td>\n",
       "      <td>0</td>\n",
       "      <td>0</td>\n",
       "      <td>0</td>\n",
       "      <td>0</td>\n",
       "      <td>0</td>\n",
       "      <td>0</td>\n",
       "      <td>0</td>\n",
       "      <td>rgb(114, 194, 116)</td>\n",
       "    </tr>\n",
       "    <tr>\n",
       "      <th>3</th>\n",
       "      <td>25-Mar-23</td>\n",
       "      <td>cowboy like me</td>\n",
       "      <td>white horse</td>\n",
       "      <td>evermore</td>\n",
       "      <td>cowboy like me</td>\n",
       "      <td>2</td>\n",
       "      <td>1</td>\n",
       "      <td>1</td>\n",
       "      <td>0</td>\n",
       "      <td>0</td>\n",
       "      <td>0</td>\n",
       "      <td>0</td>\n",
       "      <td>0</td>\n",
       "      <td>0</td>\n",
       "      <td>0</td>\n",
       "      <td>0</td>\n",
       "      <td>rgb(21, 201, 209)</td>\n",
       "    </tr>\n",
       "    <tr>\n",
       "      <th>4</th>\n",
       "      <td>31-Mar-23</td>\n",
       "      <td>sad beautiful tragic</td>\n",
       "      <td>ours</td>\n",
       "      <td>Red</td>\n",
       "      <td>sad beautiful tragic</td>\n",
       "      <td>2</td>\n",
       "      <td>1</td>\n",
       "      <td>1</td>\n",
       "      <td>1</td>\n",
       "      <td>0</td>\n",
       "      <td>0</td>\n",
       "      <td>0</td>\n",
       "      <td>0</td>\n",
       "      <td>0</td>\n",
       "      <td>0</td>\n",
       "      <td>0</td>\n",
       "      <td>rgb(76, 155, 146)</td>\n",
       "    </tr>\n",
       "    <tr>\n",
       "      <th>...</th>\n",
       "      <td>...</td>\n",
       "      <td>...</td>\n",
       "      <td>...</td>\n",
       "      <td>...</td>\n",
       "      <td>...</td>\n",
       "      <td>...</td>\n",
       "      <td>...</td>\n",
       "      <td>...</td>\n",
       "      <td>...</td>\n",
       "      <td>...</td>\n",
       "      <td>...</td>\n",
       "      <td>...</td>\n",
       "      <td>...</td>\n",
       "      <td>...</td>\n",
       "      <td>...</td>\n",
       "      <td>...</td>\n",
       "      <td>...</td>\n",
       "    </tr>\n",
       "    <tr>\n",
       "      <th>48</th>\n",
       "      <td>4-Aug-23</td>\n",
       "      <td>our song</td>\n",
       "      <td>you are in love</td>\n",
       "      <td>1989</td>\n",
       "      <td>you are in love</td>\n",
       "      <td>5</td>\n",
       "      <td>11</td>\n",
       "      <td>7</td>\n",
       "      <td>17</td>\n",
       "      <td>7</td>\n",
       "      <td>12</td>\n",
       "      <td>16</td>\n",
       "      <td>9</td>\n",
       "      <td>12</td>\n",
       "      <td>5</td>\n",
       "      <td>1</td>\n",
       "      <td>rgb(136, 174, 128)</td>\n",
       "    </tr>\n",
       "    <tr>\n",
       "      <th>49</th>\n",
       "      <td>5-Aug-23</td>\n",
       "      <td>death by a thousand cuts</td>\n",
       "      <td>you're on your own, kid</td>\n",
       "      <td>Midnights</td>\n",
       "      <td>you're on your own, kid</td>\n",
       "      <td>5</td>\n",
       "      <td>11</td>\n",
       "      <td>7</td>\n",
       "      <td>17</td>\n",
       "      <td>7</td>\n",
       "      <td>12</td>\n",
       "      <td>16</td>\n",
       "      <td>10</td>\n",
       "      <td>12</td>\n",
       "      <td>5</td>\n",
       "      <td>1</td>\n",
       "      <td>rgb(76, 13, 223)</td>\n",
       "    </tr>\n",
       "    <tr>\n",
       "      <th>50</th>\n",
       "      <td>7-Aug-23</td>\n",
       "      <td>dress</td>\n",
       "      <td>exile</td>\n",
       "      <td>folklore</td>\n",
       "      <td>exile</td>\n",
       "      <td>6</td>\n",
       "      <td>11</td>\n",
       "      <td>7</td>\n",
       "      <td>17</td>\n",
       "      <td>7</td>\n",
       "      <td>12</td>\n",
       "      <td>16</td>\n",
       "      <td>10</td>\n",
       "      <td>12</td>\n",
       "      <td>5</td>\n",
       "      <td>1</td>\n",
       "      <td>rgb(139, 82, 186)</td>\n",
       "    </tr>\n",
       "    <tr>\n",
       "      <th>51</th>\n",
       "      <td>8-Aug-23</td>\n",
       "      <td>i know places</td>\n",
       "      <td>king of my heart</td>\n",
       "      <td>Reputation</td>\n",
       "      <td>king of my heart</td>\n",
       "      <td>6</td>\n",
       "      <td>11</td>\n",
       "      <td>7</td>\n",
       "      <td>17</td>\n",
       "      <td>7</td>\n",
       "      <td>12</td>\n",
       "      <td>16</td>\n",
       "      <td>10</td>\n",
       "      <td>12</td>\n",
       "      <td>6</td>\n",
       "      <td>1</td>\n",
       "      <td>rgb(191, 97, 17)</td>\n",
       "    </tr>\n",
       "    <tr>\n",
       "      <th>52</th>\n",
       "      <td>9-Aug-23</td>\n",
       "      <td>new romantics</td>\n",
       "      <td>new year's day</td>\n",
       "      <td>Reputation</td>\n",
       "      <td>new year's day</td>\n",
       "      <td>6</td>\n",
       "      <td>11</td>\n",
       "      <td>7</td>\n",
       "      <td>17</td>\n",
       "      <td>7</td>\n",
       "      <td>12</td>\n",
       "      <td>16</td>\n",
       "      <td>10</td>\n",
       "      <td>12</td>\n",
       "      <td>7</td>\n",
       "      <td>1</td>\n",
       "      <td>rgb(191, 97, 17)</td>\n",
       "    </tr>\n",
       "  </tbody>\n",
       "</table>\n",
       "<p>106 rows × 17 columns</p>\n",
       "</div>"
      ],
      "text/plain": [
       "         CITY           Surprise Song 🎸          Surprise Song 🎹  \\\n",
       "0   17-Mar-23                mirrorball               tim mcgraw   \n",
       "1   17-Mar-23         this is me trying           state of grace   \n",
       "2   24-Mar-23                  our song        snow on the beach   \n",
       "3   25-Mar-23            cowboy like me              white horse   \n",
       "4   31-Mar-23      sad beautiful tragic                     ours   \n",
       "..        ...                       ...                      ...   \n",
       "48   4-Aug-23                  our song          you are in love   \n",
       "49   5-Aug-23  death by a thousand cuts  you're on your own, kid   \n",
       "50   7-Aug-23                     dress                    exile   \n",
       "51   8-Aug-23             i know places         king of my heart   \n",
       "52   9-Aug-23             new romantics           new year's day   \n",
       "\n",
       "                   Album                     Song  folklore  \\\n",
       "0               folklore               mirrorball         1   \n",
       "1               folklore        this is me trying         2   \n",
       "2   Debut (Taylor Swift)                 our song         2   \n",
       "3               evermore           cowboy like me         2   \n",
       "4                    Red     sad beautiful tragic         2   \n",
       "..                   ...                      ...       ...   \n",
       "48                  1989          you are in love         5   \n",
       "49             Midnights  you're on your own, kid         5   \n",
       "50              folklore                    exile         6   \n",
       "51            Reputation         king of my heart         6   \n",
       "52            Reputation           new year's day         6   \n",
       "\n",
       "    Debut (Taylor Swift)  evermore  Red  Lover  Fearless  Speak Now  \\\n",
       "0                      0         0    0      0         0          0   \n",
       "1                      0         0    0      0         0          0   \n",
       "2                      1         0    0      0         0          0   \n",
       "3                      1         1    0      0         0          0   \n",
       "4                      1         1    1      0         0          0   \n",
       "..                   ...       ...  ...    ...       ...        ...   \n",
       "48                    11         7   17      7        12         16   \n",
       "49                    11         7   17      7        12         16   \n",
       "50                    11         7   17      7        12         16   \n",
       "51                    11         7   17      7        12         16   \n",
       "52                    11         7   17      7        12         16   \n",
       "\n",
       "    Midnights  1989  Reputation  SINGLE               color  \n",
       "0           0     0           0       0   rgb(139, 82, 186)  \n",
       "1           0     0           0       0   rgb(139, 82, 186)  \n",
       "2           0     0           0       0  rgb(114, 194, 116)  \n",
       "3           0     0           0       0   rgb(21, 201, 209)  \n",
       "4           0     0           0       0   rgb(76, 155, 146)  \n",
       "..        ...   ...         ...     ...                 ...  \n",
       "48          9    12           5       1  rgb(136, 174, 128)  \n",
       "49         10    12           5       1    rgb(76, 13, 223)  \n",
       "50         10    12           5       1   rgb(139, 82, 186)  \n",
       "51         10    12           6       1    rgb(191, 97, 17)  \n",
       "52         10    12           7       1    rgb(191, 97, 17)  \n",
       "\n",
       "[106 rows x 17 columns]"
      ]
     },
     "execution_count": 17,
     "metadata": {},
     "output_type": "execute_result"
    }
   ],
   "source": [
    "all_albums #.sort_values('CITY')"
   ]
  },
  {
   "cell_type": "code",
   "execution_count": 18,
   "id": "5b5894ca-476c-45b5-a9aa-ebfa618ba09f",
   "metadata": {},
   "outputs": [
    {
     "data": {
      "application/vnd.plotly.v1+json": {
       "config": {
        "plotlyServerURL": "https://plot.ly"
       },
       "data": [
        {
         "cliponaxis": false,
         "hoverinfo": "all",
         "hovertemplate": "<extra></extra>",
         "marker": {
          "color": [
           "rgb(236, 99, 109)",
           "rgb(122, 45, 20)"
          ]
         },
         "orientation": "h",
         "textangle": 0,
         "textposition": "outside",
         "texttemplate": "%{y}<br>%{x:.4s}",
         "type": "bar",
         "x": [
          4,
          5
         ],
         "y": [
          "Debut (Taylor Swift)",
          "evermore"
         ]
        }
       ],
       "frames": [
        {
         "data": [
          {
           "cliponaxis": false,
           "hoverinfo": "all",
           "hovertemplate": "<extra></extra>",
           "marker": {
            "color": [
             "rgb(171, 111, 146)",
             "rgb(93, 75, 201)"
            ]
           },
           "orientation": "h",
           "textangle": 0,
           "textposition": "outside",
           "texttemplate": "%{y}<br>%{x:.4s}",
           "type": "bar",
           "x": [
            2,
            4
           ],
           "y": [
            "Lover",
            "1989"
           ]
          }
         ],
         "layout": {
          "bargap": 0.15,
          "font": {
           "size": 14
          },
          "plot_bgcolor": "#FFFFFF",
          "title": {
           "text": "Top Albums Used for Surprise Songs (US Leg)"
          },
          "xaxis": {
           "range": [
            0,
            6
           ],
           "showline": true,
           "visible": true
          },
          "yaxis": {
           "showline": false,
           "visible": true
          }
         },
         "name": "1-Apr-23"
        },
        {
         "data": [
          {
           "cliponaxis": false,
           "hoverinfo": "all",
           "hovertemplate": "<extra></extra>",
           "marker": {
            "color": [
             "rgb(122, 45, 20)",
             "rgb(46, 26, 159)"
            ]
           },
           "orientation": "h",
           "textangle": 0,
           "textposition": "outside",
           "texttemplate": "%{y}<br>%{x:.4s}",
           "type": "bar",
           "x": [
            4,
            5
           ],
           "y": [
            "evermore",
            "Reputation"
           ]
          }
         ],
         "layout": {
          "bargap": 0.15,
          "font": {
           "size": 14
          },
          "plot_bgcolor": "#FFFFFF",
          "title": {
           "text": "Top Albums Used for Surprise Songs (US Leg)"
          },
          "xaxis": {
           "range": [
            0,
            6
           ],
           "showline": true,
           "visible": true
          },
          "yaxis": {
           "showline": false,
           "visible": true
          }
         },
         "name": "1-Jul-23"
        },
        {
         "data": [
          {
           "cliponaxis": false,
           "hoverinfo": "all",
           "hovertemplate": "<extra></extra>",
           "marker": {
            "color": [
             "rgb(93, 75, 201)",
             "rgb(83, 93, 192)"
            ]
           },
           "orientation": "h",
           "textangle": 0,
           "textposition": "outside",
           "texttemplate": "%{y}<br>%{x:.4s}",
           "type": "bar",
           "x": [
            3,
            5
           ],
           "y": [
            "1989",
            "Fearless"
           ]
          }
         ],
         "layout": {
          "bargap": 0.15,
          "font": {
           "size": 14
          },
          "plot_bgcolor": "#FFFFFF",
          "title": {
           "text": "Top Albums Used for Surprise Songs (US Leg)"
          },
          "xaxis": {
           "range": [
            0,
            6
           ],
           "showline": true,
           "visible": true
          },
          "yaxis": {
           "showline": false,
           "visible": true
          }
         },
         "name": "10-Jun-23"
        },
        {
         "data": [
          {
           "cliponaxis": false,
           "hoverinfo": "all",
           "hovertemplate": "<extra></extra>",
           "marker": {
            "color": [
             "rgb(122, 45, 20)",
             "rgb(7, 58, 32)"
            ]
           },
           "orientation": "h",
           "textangle": 0,
           "textposition": "outside",
           "texttemplate": "%{y}<br>%{x:.4s}",
           "type": "bar",
           "x": [
            3,
            4
           ],
           "y": [
            "evermore",
            "Red"
           ]
          }
         ],
         "layout": {
          "bargap": 0.15,
          "font": {
           "size": 14
          },
          "plot_bgcolor": "#FFFFFF",
          "title": {
           "text": "Top Albums Used for Surprise Songs (US Leg)"
          },
          "xaxis": {
           "range": [
            0,
            6
           ],
           "showline": true,
           "visible": true
          },
          "yaxis": {
           "showline": false,
           "visible": true
          }
         },
         "name": "12-May-23"
        },
        {
         "data": [
          {
           "cliponaxis": false,
           "hoverinfo": "all",
           "hovertemplate": "<extra></extra>",
           "marker": {
            "color": [
             "rgb(212, 208, 87)",
             "rgb(7, 58, 32)"
            ]
           },
           "orientation": "h",
           "textangle": 0,
           "textposition": "outside",
           "texttemplate": "%{y}<br>%{x:.4s}",
           "type": "bar",
           "x": [
            2,
            4
           ],
           "y": [
            "Speak Now",
            "Red"
           ]
          }
         ],
         "layout": {
          "bargap": 0.15,
          "font": {
           "size": 14
          },
          "plot_bgcolor": "#FFFFFF",
          "title": {
           "text": "Top Albums Used for Surprise Songs (US Leg)"
          },
          "xaxis": {
           "range": [
            0,
            6
           ],
           "showline": true,
           "visible": true
          },
          "yaxis": {
           "showline": false,
           "visible": true
          }
         },
         "name": "13-Apr-23"
        },
        {
         "data": [
          {
           "cliponaxis": false,
           "hoverinfo": "all",
           "hovertemplate": "<extra></extra>",
           "marker": {
            "color": [
             "rgb(83, 93, 192)",
             "rgb(93, 75, 201)"
            ]
           },
           "orientation": "h",
           "textangle": 0,
           "textposition": "outside",
           "texttemplate": "%{y}<br>%{x:.4s}",
           "type": "bar",
           "x": [
            3,
            4
           ],
           "y": [
            "Fearless",
            "1989"
           ]
          }
         ],
         "layout": {
          "bargap": 0.15,
          "font": {
           "size": 14
          },
          "plot_bgcolor": "#FFFFFF",
          "title": {
           "text": "Top Albums Used for Surprise Songs (US Leg)"
          },
          "xaxis": {
           "range": [
            0,
            6
           ],
           "showline": true,
           "visible": true
          },
          "yaxis": {
           "showline": false,
           "visible": true
          }
         },
         "name": "13-May-23"
        },
        {
         "data": [
          {
           "cliponaxis": false,
           "hoverinfo": "all",
           "hovertemplate": "<extra></extra>",
           "marker": {
            "color": [
             "rgb(144, 87, 131)",
             "rgb(144, 87, 131)"
            ]
           },
           "orientation": "h",
           "textangle": 0,
           "textposition": "outside",
           "texttemplate": "%{y}<br>%{x:.4s}",
           "type": "bar",
           "x": [
            2,
            4
           ],
           "y": [
            "Midnights",
            "Midnights"
           ]
          }
         ],
         "layout": {
          "bargap": 0.15,
          "font": {
           "size": 14
          },
          "plot_bgcolor": "#FFFFFF",
          "title": {
           "text": "Top Albums Used for Surprise Songs (US Leg)"
          },
          "xaxis": {
           "range": [
            0,
            6
           ],
           "showline": true,
           "visible": true
          },
          "yaxis": {
           "showline": false,
           "visible": true
          }
         },
         "name": "14-Apr-23"
        },
        {
         "data": [
          {
           "cliponaxis": false,
           "hoverinfo": "all",
           "hovertemplate": "<extra></extra>",
           "marker": {
            "color": [
             "rgb(236, 99, 109)",
             "rgb(212, 208, 87)"
            ]
           },
           "orientation": "h",
           "textangle": 0,
           "textposition": "outside",
           "texttemplate": "%{y}<br>%{x:.4s}",
           "type": "bar",
           "x": [
            4,
            5
           ],
           "y": [
            "Debut (Taylor Swift)",
            "Speak Now"
           ]
          }
         ],
         "layout": {
          "bargap": 0.15,
          "font": {
           "size": 14
          },
          "plot_bgcolor": "#FFFFFF",
          "title": {
           "text": "Top Albums Used for Surprise Songs (US Leg)"
          },
          "xaxis": {
           "range": [
            0,
            6
           ],
           "showline": true,
           "visible": true
          },
          "yaxis": {
           "showline": false,
           "visible": true
          }
         },
         "name": "14-Jul-23"
        },
        {
         "data": [
          {
           "cliponaxis": false,
           "hoverinfo": "all",
           "hovertemplate": "<extra></extra>",
           "marker": {
            "color": [
             "rgb(83, 93, 192)",
             "rgb(83, 93, 192)"
            ]
           },
           "orientation": "h",
           "textangle": 0,
           "textposition": "outside",
           "texttemplate": "%{y}<br>%{x:.4s}",
           "type": "bar",
           "x": [
            3,
            4
           ],
           "y": [
            "Fearless",
            "Fearless"
           ]
          }
         ],
         "layout": {
          "bargap": 0.15,
          "font": {
           "size": 14
          },
          "plot_bgcolor": "#FFFFFF",
          "title": {
           "text": "Top Albums Used for Surprise Songs (US Leg)"
          },
          "xaxis": {
           "range": [
            0,
            6
           ],
           "showline": true,
           "visible": true
          },
          "yaxis": {
           "showline": false,
           "visible": true
          }
         },
         "name": "14-May-23"
        },
        {
         "data": [
          {
           "cliponaxis": false,
           "hoverinfo": "all",
           "hovertemplate": "<extra></extra>",
           "marker": {
            "color": [
             "rgb(142, 65, 234)",
             "rgb(212, 208, 87)"
            ]
           },
           "orientation": "h",
           "textangle": 0,
           "textposition": "outside",
           "texttemplate": "%{y}<br>%{x:.4s}",
           "type": "bar",
           "x": [
            3,
            4
           ],
           "y": [
            "folklore",
            "Speak Now"
           ]
          }
         ],
         "layout": {
          "bargap": 0.15,
          "font": {
           "size": 14
          },
          "plot_bgcolor": "#FFFFFF",
          "title": {
           "text": "Top Albums Used for Surprise Songs (US Leg)"
          },
          "xaxis": {
           "range": [
            0,
            6
           ],
           "showline": true,
           "visible": true
          },
          "yaxis": {
           "showline": false,
           "visible": true
          }
         },
         "name": "15-Apr-23"
        },
        {
         "data": [
          {
           "cliponaxis": false,
           "hoverinfo": "all",
           "hovertemplate": "<extra></extra>",
           "marker": {
            "color": [
             "rgb(7, 58, 32)",
             "rgb(212, 208, 87)"
            ]
           },
           "orientation": "h",
           "textangle": 0,
           "textposition": "outside",
           "texttemplate": "%{y}<br>%{x:.4s}",
           "type": "bar",
           "x": [
            4,
            5
           ],
           "y": [
            "Red",
            "Speak Now"
           ]
          }
         ],
         "layout": {
          "bargap": 0.15,
          "font": {
           "size": 14
          },
          "plot_bgcolor": "#FFFFFF",
          "title": {
           "text": "Top Albums Used for Surprise Songs (US Leg)"
          },
          "xaxis": {
           "range": [
            0,
            6
           ],
           "showline": true,
           "visible": true
          },
          "yaxis": {
           "showline": false,
           "visible": true
          }
         },
         "name": "15-Jul-23"
        },
        {
         "data": [
          {
           "cliponaxis": false,
           "hoverinfo": "all",
           "hovertemplate": "<extra></extra>",
           "marker": {
            "color": [
             "rgb(83, 93, 192)",
             "rgb(7, 58, 32)"
            ]
           },
           "orientation": "h",
           "textangle": 0,
           "textposition": "outside",
           "texttemplate": "%{y}<br>%{x:.4s}",
           "type": "bar",
           "x": [
            3,
            5
           ],
           "y": [
            "Fearless",
            "Red"
           ]
          }
         ],
         "layout": {
          "bargap": 0.15,
          "font": {
           "size": 14
          },
          "plot_bgcolor": "#FFFFFF",
          "title": {
           "text": "Top Albums Used for Surprise Songs (US Leg)"
          },
          "xaxis": {
           "range": [
            0,
            6
           ],
           "showline": true,
           "visible": true
          },
          "yaxis": {
           "showline": false,
           "visible": true
          }
         },
         "name": "16-Jun-23"
        },
        {
         "data": [
          {
           "cliponaxis": false,
           "hoverinfo": "all",
           "hovertemplate": "<extra></extra>",
           "marker": {
            "color": [
             "rgb(142, 65, 234)",
             "rgb(212, 208, 87)"
            ]
           },
           "orientation": "h",
           "textangle": 0,
           "textposition": "outside",
           "texttemplate": "%{y}<br>%{x:.4s}",
           "type": "bar",
           "x": [
            4,
            5
           ],
           "y": [
            "folklore",
            "Speak Now"
           ]
          }
         ],
         "layout": {
          "bargap": 0.15,
          "font": {
           "size": 14
          },
          "plot_bgcolor": "#FFFFFF",
          "title": {
           "text": "Top Albums Used for Surprise Songs (US Leg)"
          },
          "xaxis": {
           "range": [
            0,
            6
           ],
           "showline": true,
           "visible": true
          },
          "yaxis": {
           "showline": false,
           "visible": true
          }
         },
         "name": "17-Jun-23"
        },
        {
         "data": [
          {
           "cliponaxis": false,
           "hoverinfo": "all",
           "hovertemplate": "<extra></extra>",
           "marker": {
            "color": [
             "rgb(142, 65, 234)",
             "rgb(142, 65, 234)",
             "rgb(236, 99, 109)",
             "rgb(7, 58, 32)"
            ]
           },
           "orientation": "h",
           "textangle": 0,
           "textposition": "outside",
           "texttemplate": "%{y}<br>%{x:.4s}",
           "type": "bar",
           "x": [
            1,
            2,
            4,
            4
           ],
           "y": [
            "folklore",
            "folklore",
            "Debut (Taylor Swift)",
            "Red"
           ]
          }
         ],
         "layout": {
          "bargap": 0.15,
          "font": {
           "size": 14
          },
          "plot_bgcolor": "#FFFFFF",
          "title": {
           "text": "Top Albums Used for Surprise Songs (US Leg)"
          },
          "xaxis": {
           "range": [
            0,
            6
           ],
           "showline": true,
           "visible": true
          },
          "yaxis": {
           "showline": false,
           "visible": true
          }
         },
         "name": "17-Mar-23"
        },
        {
         "data": [
          {
           "cliponaxis": false,
           "hoverinfo": "all",
           "hovertemplate": "<extra></extra>",
           "marker": {
            "color": [
             "rgb(236, 99, 109)",
             "rgb(7, 58, 32)"
            ]
           },
           "orientation": "h",
           "textangle": 0,
           "textposition": "outside",
           "texttemplate": "%{y}<br>%{x:.4s}",
           "type": "bar",
           "x": [
            3,
            4
           ],
           "y": [
            "Debut (Taylor Swift)",
            "Red"
           ]
          }
         ],
         "layout": {
          "bargap": 0.15,
          "font": {
           "size": 14
          },
          "plot_bgcolor": "#FFFFFF",
          "title": {
           "text": "Top Albums Used for Surprise Songs (US Leg)"
          },
          "xaxis": {
           "range": [
            0,
            6
           ],
           "showline": true,
           "visible": true
          },
          "yaxis": {
           "showline": false,
           "visible": true
          }
         },
         "name": "19-May-23"
        },
        {
         "data": [
          {
           "cliponaxis": false,
           "hoverinfo": "all",
           "hovertemplate": "<extra></extra>",
           "marker": {
            "color": [
             "rgb(83, 93, 192)",
             "rgb(7, 58, 32)"
            ]
           },
           "orientation": "h",
           "textangle": 0,
           "textposition": "outside",
           "texttemplate": "%{y}<br>%{x:.4s}",
           "type": "bar",
           "x": [
            2,
            4
           ],
           "y": [
            "Fearless",
            "Red"
           ]
          }
         ],
         "layout": {
          "bargap": 0.15,
          "font": {
           "size": 14
          },
          "plot_bgcolor": "#FFFFFF",
          "title": {
           "text": "Top Albums Used for Surprise Songs (US Leg)"
          },
          "xaxis": {
           "range": [
            0,
            6
           ],
           "showline": true,
           "visible": true
          },
          "yaxis": {
           "showline": false,
           "visible": true
          }
         },
         "name": "2-Apr-23"
        },
        {
         "data": [
          {
           "cliponaxis": false,
           "hoverinfo": "all",
           "hovertemplate": "<extra></extra>",
           "marker": {
            "color": [
             "rgb(93, 75, 201)",
             "rgb(142, 65, 234)"
            ]
           },
           "orientation": "h",
           "textangle": 0,
           "textposition": "outside",
           "texttemplate": "%{y}<br>%{x:.4s}",
           "type": "bar",
           "x": [
            3,
            5
           ],
           "y": [
            "1989",
            "folklore"
           ]
          }
         ],
         "layout": {
          "bargap": 0.15,
          "font": {
           "size": 14
          },
          "plot_bgcolor": "#FFFFFF",
          "title": {
           "text": "Top Albums Used for Surprise Songs (US Leg)"
          },
          "xaxis": {
           "range": [
            0,
            6
           ],
           "showline": true,
           "visible": true
          },
          "yaxis": {
           "showline": false,
           "visible": true
          }
         },
         "name": "2-Jun-23"
        },
        {
         "data": [
          {
           "cliponaxis": false,
           "hoverinfo": "all",
           "hovertemplate": "<extra></extra>",
           "marker": {
            "color": [
             "rgb(144, 87, 131)",
             "rgb(236, 99, 109)"
            ]
           },
           "orientation": "h",
           "textangle": 0,
           "textposition": "outside",
           "texttemplate": "%{y}<br>%{x:.4s}",
           "type": "bar",
           "x": [
            3,
            4
           ],
           "y": [
            "Midnights",
            "Debut (Taylor Swift)"
           ]
          }
         ],
         "layout": {
          "bargap": 0.15,
          "font": {
           "size": 14
          },
          "plot_bgcolor": "#FFFFFF",
          "title": {
           "text": "Top Albums Used for Surprise Songs (US Leg)"
          },
          "xaxis": {
           "range": [
            0,
            6
           ],
           "showline": true,
           "visible": true
          },
          "yaxis": {
           "showline": false,
           "visible": true
          }
         },
         "name": "20-May-23"
        },
        {
         "data": [
          {
           "cliponaxis": false,
           "hoverinfo": "all",
           "hovertemplate": "<extra></extra>",
           "marker": {
            "color": [
             "rgb(93, 75, 201)",
             "rgb(83, 93, 192)"
            ]
           },
           "orientation": "h",
           "textangle": 0,
           "textposition": "outside",
           "texttemplate": "%{y}<br>%{x:.4s}",
           "type": "bar",
           "x": [
            3,
            4
           ],
           "y": [
            "1989",
            "Fearless"
           ]
          }
         ],
         "layout": {
          "bargap": 0.15,
          "font": {
           "size": 14
          },
          "plot_bgcolor": "#FFFFFF",
          "title": {
           "text": "Top Albums Used for Surprise Songs (US Leg)"
          },
          "xaxis": {
           "range": [
            0,
            6
           ],
           "showline": true,
           "visible": true
          },
          "yaxis": {
           "showline": false,
           "visible": true
          }
         },
         "name": "21-Apr-23"
        },
        {
         "data": [
          {
           "cliponaxis": false,
           "hoverinfo": "all",
           "hovertemplate": "<extra></extra>",
           "marker": {
            "color": [
             "rgb(171, 111, 146)",
             "rgb(7, 58, 32)"
            ]
           },
           "orientation": "h",
           "textangle": 0,
           "textposition": "outside",
           "texttemplate": "%{y}<br>%{x:.4s}",
           "type": "bar",
           "x": [
            3,
            4
           ],
           "y": [
            "Lover",
            "Red"
           ]
          }
         ],
         "layout": {
          "bargap": 0.15,
          "font": {
           "size": 14
          },
          "plot_bgcolor": "#FFFFFF",
          "title": {
           "text": "Top Albums Used for Surprise Songs (US Leg)"
          },
          "xaxis": {
           "range": [
            0,
            6
           ],
           "showline": true,
           "visible": true
          },
          "yaxis": {
           "showline": false,
           "visible": true
          }
         },
         "name": "21-May-23"
        },
        {
         "data": [
          {
           "cliponaxis": false,
           "hoverinfo": "all",
           "hovertemplate": "<extra></extra>",
           "marker": {
            "color": [
             "rgb(236, 99, 109)",
             "rgb(83, 93, 192)"
            ]
           },
           "orientation": "h",
           "textangle": 0,
           "textposition": "outside",
           "texttemplate": "%{y}<br>%{x:.4s}",
           "type": "bar",
           "x": [
            3,
            4
           ],
           "y": [
            "Debut (Taylor Swift)",
            "Fearless"
           ]
          }
         ],
         "layout": {
          "bargap": 0.15,
          "font": {
           "size": 14
          },
          "plot_bgcolor": "#FFFFFF",
          "title": {
           "text": "Top Albums Used for Surprise Songs (US Leg)"
          },
          "xaxis": {
           "range": [
            0,
            6
           ],
           "showline": true,
           "visible": true
          },
          "yaxis": {
           "showline": false,
           "visible": true
          }
         },
         "name": "22-Apr-23"
        },
        {
         "data": [
          {
           "cliponaxis": false,
           "hoverinfo": "all",
           "hovertemplate": "<extra></extra>",
           "marker": {
            "color": [
             "rgb(46, 26, 159)",
             "rgb(7, 58, 32)"
            ]
           },
           "orientation": "h",
           "textangle": 0,
           "textposition": "outside",
           "texttemplate": "%{y}<br>%{x:.4s}",
           "type": "bar",
           "x": [
            4,
            5
           ],
           "y": [
            "Reputation",
            "Red"
           ]
          }
         ],
         "layout": {
          "bargap": 0.15,
          "font": {
           "size": 14
          },
          "plot_bgcolor": "#FFFFFF",
          "title": {
           "text": "Top Albums Used for Surprise Songs (US Leg)"
          },
          "xaxis": {
           "range": [
            0,
            6
           ],
           "showline": true,
           "visible": true
          },
          "yaxis": {
           "showline": false,
           "visible": true
          }
         },
         "name": "22-Jul-23"
        },
        {
         "data": [
          {
           "cliponaxis": false,
           "hoverinfo": "all",
           "hovertemplate": "<extra></extra>",
           "marker": {
            "color": [
             "rgb(7, 58, 32)",
             "rgb(236, 99, 109)"
            ]
           },
           "orientation": "h",
           "textangle": 0,
           "textposition": "outside",
           "texttemplate": "%{y}<br>%{x:.4s}",
           "type": "bar",
           "x": [
            3,
            4
           ],
           "y": [
            "Red",
            "Debut (Taylor Swift)"
           ]
          }
         ],
         "layout": {
          "bargap": 0.15,
          "font": {
           "size": 14
          },
          "plot_bgcolor": "#FFFFFF",
          "title": {
           "text": "Top Albums Used for Surprise Songs (US Leg)"
          },
          "xaxis": {
           "range": [
            0,
            6
           ],
           "showline": true,
           "visible": true
          },
          "yaxis": {
           "showline": false,
           "visible": true
          }
         },
         "name": "23-Apr-23"
        },
        {
         "data": [
          {
           "cliponaxis": false,
           "hoverinfo": "all",
           "hovertemplate": "<extra></extra>",
           "marker": {
            "color": [
             "rgb(7, 58, 32)",
             "rgb(236, 99, 109)"
            ]
           },
           "orientation": "h",
           "textangle": 0,
           "textposition": "outside",
           "texttemplate": "%{y}<br>%{x:.4s}",
           "type": "bar",
           "x": [
            4,
            5
           ],
           "y": [
            "Red",
            "Debut (Taylor Swift)"
           ]
          }
         ],
         "layout": {
          "bargap": 0.15,
          "font": {
           "size": 14
          },
          "plot_bgcolor": "#FFFFFF",
          "title": {
           "text": "Top Albums Used for Surprise Songs (US Leg)"
          },
          "xaxis": {
           "range": [
            0,
            6
           ],
           "showline": true,
           "visible": true
          },
          "yaxis": {
           "showline": false,
           "visible": true
          }
         },
         "name": "23-Jul-23"
        },
        {
         "data": [
          {
           "cliponaxis": false,
           "hoverinfo": "all",
           "hovertemplate": "<extra></extra>",
           "marker": {
            "color": [
             "rgb(171, 111, 146)",
             "rgb(212, 208, 87)"
            ]
           },
           "orientation": "h",
           "textangle": 0,
           "textposition": "outside",
           "texttemplate": "%{y}<br>%{x:.4s}",
           "type": "bar",
           "x": [
            4,
            5
           ],
           "y": [
            "Lover",
            "Speak Now"
           ]
          }
         ],
         "layout": {
          "bargap": 0.15,
          "font": {
           "size": 14
          },
          "plot_bgcolor": "#FFFFFF",
          "title": {
           "text": "Top Albums Used for Surprise Songs (US Leg)"
          },
          "xaxis": {
           "range": [
            0,
            6
           ],
           "showline": true,
           "visible": true
          },
          "yaxis": {
           "showline": false,
           "visible": true
          }
         },
         "name": "23-Jun-23"
        },
        {
         "data": [
          {
           "cliponaxis": false,
           "hoverinfo": "all",
           "hovertemplate": "<extra></extra>",
           "marker": {
            "color": [
             "rgb(212, 208, 87)",
             "rgb(171, 111, 146)"
            ]
           },
           "orientation": "h",
           "textangle": 0,
           "textposition": "outside",
           "texttemplate": "%{y}<br>%{x:.4s}",
           "type": "bar",
           "x": [
            4,
            5
           ],
           "y": [
            "Speak Now",
            "Lover"
           ]
          }
         ],
         "layout": {
          "bargap": 0.15,
          "font": {
           "size": 14
          },
          "plot_bgcolor": "#FFFFFF",
          "title": {
           "text": "Top Albums Used for Surprise Songs (US Leg)"
          },
          "xaxis": {
           "range": [
            0,
            6
           ],
           "showline": true,
           "visible": true
          },
          "yaxis": {
           "showline": false,
           "visible": true
          }
         },
         "name": "24-Jun-23"
        },
        {
         "data": [
          {
           "cliponaxis": false,
           "hoverinfo": "all",
           "hovertemplate": "<extra></extra>",
           "marker": {
            "color": [
             "rgb(236, 99, 109)",
             "rgb(144, 87, 131)"
            ]
           },
           "orientation": "h",
           "textangle": 0,
           "textposition": "outside",
           "texttemplate": "%{y}<br>%{x:.4s}",
           "type": "bar",
           "x": [
            2,
            4
           ],
           "y": [
            "Debut (Taylor Swift)",
            "Midnights"
           ]
          }
         ],
         "layout": {
          "bargap": 0.15,
          "font": {
           "size": 14
          },
          "plot_bgcolor": "#FFFFFF",
          "title": {
           "text": "Top Albums Used for Surprise Songs (US Leg)"
          },
          "xaxis": {
           "range": [
            0,
            6
           ],
           "showline": true,
           "visible": true
          },
          "yaxis": {
           "showline": false,
           "visible": true
          }
         },
         "name": "24-Mar-23"
        },
        {
         "data": [
          {
           "cliponaxis": false,
           "hoverinfo": "all",
           "hovertemplate": "<extra></extra>",
           "marker": {
            "color": [
             "rgb(122, 45, 20)",
             "rgb(83, 93, 192)"
            ]
           },
           "orientation": "h",
           "textangle": 0,
           "textposition": "outside",
           "texttemplate": "%{y}<br>%{x:.4s}",
           "type": "bar",
           "x": [
            2,
            4
           ],
           "y": [
            "evermore",
            "Fearless"
           ]
          }
         ],
         "layout": {
          "bargap": 0.15,
          "font": {
           "size": 14
          },
          "plot_bgcolor": "#FFFFFF",
          "title": {
           "text": "Top Albums Used for Surprise Songs (US Leg)"
          },
          "xaxis": {
           "range": [
            0,
            6
           ],
           "showline": true,
           "visible": true
          },
          "yaxis": {
           "showline": false,
           "visible": true
          }
         },
         "name": "25-Mar-23"
        },
        {
         "data": [
          {
           "cliponaxis": false,
           "hoverinfo": "all",
           "hovertemplate": "<extra></extra>",
           "marker": {
            "color": [
             "rgb(46, 26, 159)",
             "rgb(144, 87, 131)"
            ]
           },
           "orientation": "h",
           "textangle": 0,
           "textposition": "outside",
           "texttemplate": "%{y}<br>%{x:.4s}",
           "type": "bar",
           "x": [
            3,
            4
           ],
           "y": [
            "Reputation",
            "Midnights"
           ]
          }
         ],
         "layout": {
          "bargap": 0.15,
          "font": {
           "size": 14
          },
          "plot_bgcolor": "#FFFFFF",
          "title": {
           "text": "Top Albums Used for Surprise Songs (US Leg)"
          },
          "xaxis": {
           "range": [
            0,
            6
           ],
           "showline": true,
           "visible": true
          },
          "yaxis": {
           "showline": false,
           "visible": true
          }
         },
         "name": "26-May-23"
        },
        {
         "data": [
          {
           "cliponaxis": false,
           "hoverinfo": "all",
           "hovertemplate": "<extra></extra>",
           "marker": {
            "color": [
             "rgb(7, 58, 32)",
             "rgb(171, 111, 146)"
            ]
           },
           "orientation": "h",
           "textangle": 0,
           "textposition": "outside",
           "texttemplate": "%{y}<br>%{x:.4s}",
           "type": "bar",
           "x": [
            3,
            4
           ],
           "y": [
            "Red",
            "Lover"
           ]
          }
         ],
         "layout": {
          "bargap": 0.15,
          "font": {
           "size": 14
          },
          "plot_bgcolor": "#FFFFFF",
          "title": {
           "text": "Top Albums Used for Surprise Songs (US Leg)"
          },
          "xaxis": {
           "range": [
            0,
            6
           ],
           "showline": true,
           "visible": true
          },
          "yaxis": {
           "showline": false,
           "visible": true
          }
         },
         "name": "27-May-23"
        },
        {
         "data": [
          {
           "cliponaxis": false,
           "hoverinfo": "all",
           "hovertemplate": "<extra></extra>",
           "marker": {
            "color": [
             "rgb(83, 93, 192)",
             "rgb(122, 45, 20)"
            ]
           },
           "orientation": "h",
           "textangle": 0,
           "textposition": "outside",
           "texttemplate": "%{y}<br>%{x:.4s}",
           "type": "bar",
           "x": [
            3,
            4
           ],
           "y": [
            "Fearless",
            "evermore"
           ]
          }
         ],
         "layout": {
          "bargap": 0.15,
          "font": {
           "size": 14
          },
          "plot_bgcolor": "#FFFFFF",
          "title": {
           "text": "Top Albums Used for Surprise Songs (US Leg)"
          },
          "xaxis": {
           "range": [
            0,
            6
           ],
           "showline": true,
           "visible": true
          },
          "yaxis": {
           "showline": false,
           "visible": true
          }
         },
         "name": "28-Apr-23"
        },
        {
         "data": [
          {
           "cliponaxis": false,
           "hoverinfo": "all",
           "hovertemplate": "<extra></extra>",
           "marker": {
            "color": [
             "rgb(122, 45, 20)",
             "rgb(212, 208, 87)"
            ]
           },
           "orientation": "h",
           "textangle": 0,
           "textposition": "outside",
           "texttemplate": "%{y}<br>%{x:.4s}",
           "type": "bar",
           "x": [
            4,
            5
           ],
           "y": [
            "evermore",
            "Speak Now"
           ]
          }
         ],
         "layout": {
          "bargap": 0.15,
          "font": {
           "size": 14
          },
          "plot_bgcolor": "#FFFFFF",
          "title": {
           "text": "Top Albums Used for Surprise Songs (US Leg)"
          },
          "xaxis": {
           "range": [
            0,
            6
           ],
           "showline": true,
           "visible": true
          },
          "yaxis": {
           "showline": false,
           "visible": true
          }
         },
         "name": "28-Jul-23"
        },
        {
         "data": [
          {
           "cliponaxis": false,
           "hoverinfo": "all",
           "hovertemplate": "<extra></extra>",
           "marker": {
            "color": [
             "rgb(93, 75, 201)",
             "rgb(93, 75, 201)"
            ]
           },
           "orientation": "h",
           "textangle": 0,
           "textposition": "outside",
           "texttemplate": "%{y}<br>%{x:.4s}",
           "type": "bar",
           "x": [
            3,
            4
           ],
           "y": [
            "1989",
            "1989"
           ]
          }
         ],
         "layout": {
          "bargap": 0.15,
          "font": {
           "size": 14
          },
          "plot_bgcolor": "#FFFFFF",
          "title": {
           "text": "Top Albums Used for Surprise Songs (US Leg)"
          },
          "xaxis": {
           "range": [
            0,
            6
           ],
           "showline": true,
           "visible": true
          },
          "yaxis": {
           "showline": false,
           "visible": true
          }
         },
         "name": "28-May-23"
        },
        {
         "data": [
          {
           "cliponaxis": false,
           "hoverinfo": "all",
           "hovertemplate": "<extra></extra>",
           "marker": {
            "color": [
             "rgb(144, 87, 131)",
             "rgb(46, 26, 159)"
            ]
           },
           "orientation": "h",
           "textangle": 0,
           "textposition": "outside",
           "texttemplate": "%{y}<br>%{x:.4s}",
           "type": "bar",
           "x": [
            3,
            4
           ],
           "y": [
            "Midnights",
            "Reputation"
           ]
          }
         ],
         "layout": {
          "bargap": 0.15,
          "font": {
           "size": 14
          },
          "plot_bgcolor": "#FFFFFF",
          "title": {
           "text": "Top Albums Used for Surprise Songs (US Leg)"
          },
          "xaxis": {
           "range": [
            0,
            6
           ],
           "showline": true,
           "visible": true
          },
          "yaxis": {
           "showline": false,
           "visible": true
          }
         },
         "name": "29-Apr-23"
        },
        {
         "data": [
          {
           "cliponaxis": false,
           "hoverinfo": "all",
           "hovertemplate": "<extra></extra>",
           "marker": {
            "color": [
             "rgb(7, 58, 32)",
             "rgb(171, 111, 146)"
            ]
           },
           "orientation": "h",
           "textangle": 0,
           "textposition": "outside",
           "texttemplate": "%{y}<br>%{x:.4s}",
           "type": "bar",
           "x": [
            4,
            5
           ],
           "y": [
            "Red",
            "Lover"
           ]
          }
         ],
         "layout": {
          "bargap": 0.15,
          "font": {
           "size": 14
          },
          "plot_bgcolor": "#FFFFFF",
          "title": {
           "text": "Top Albums Used for Surprise Songs (US Leg)"
          },
          "xaxis": {
           "range": [
            0,
            6
           ],
           "showline": true,
           "visible": true
          },
          "yaxis": {
           "showline": false,
           "visible": true
          }
         },
         "name": "29-Jul-23"
        },
        {
         "data": [
          {
           "cliponaxis": false,
           "hoverinfo": "all",
           "hovertemplate": "<extra></extra>",
           "marker": {
            "color": [
             "rgb(212, 208, 87)",
             "rgb(144, 87, 131)"
            ]
           },
           "orientation": "h",
           "textangle": 0,
           "textposition": "outside",
           "texttemplate": "%{y}<br>%{x:.4s}",
           "type": "bar",
           "x": [
            4,
            5
           ],
           "y": [
            "Speak Now",
            "Midnights"
           ]
          }
         ],
         "layout": {
          "bargap": 0.15,
          "font": {
           "size": 14
          },
          "plot_bgcolor": "#FFFFFF",
          "title": {
           "text": "Top Albums Used for Surprise Songs (US Leg)"
          },
          "xaxis": {
           "range": [
            0,
            6
           ],
           "showline": true,
           "visible": true
          },
          "yaxis": {
           "showline": false,
           "visible": true
          }
         },
         "name": "3-Aug-23"
        },
        {
         "data": [
          {
           "cliponaxis": false,
           "hoverinfo": "all",
           "hovertemplate": "<extra></extra>",
           "marker": {
            "color": [
             "rgb(83, 93, 192)",
             "rgb(130, 136, 219)"
            ]
           },
           "orientation": "h",
           "textangle": 0,
           "textposition": "outside",
           "texttemplate": "%{y}<br>%{x:.4s}",
           "type": "bar",
           "x": [
            3,
            5
           ],
           "y": [
            "Fearless",
            "SINGLE"
           ]
          }
         ],
         "layout": {
          "bargap": 0.15,
          "font": {
           "size": 14
          },
          "plot_bgcolor": "#FFFFFF",
          "title": {
           "text": "Top Albums Used for Surprise Songs (US Leg)"
          },
          "xaxis": {
           "range": [
            0,
            6
           ],
           "showline": true,
           "visible": true
          },
          "yaxis": {
           "showline": false,
           "visible": true
          }
         },
         "name": "3-Jun-23"
        },
        {
         "data": [
          {
           "cliponaxis": false,
           "hoverinfo": "all",
           "hovertemplate": "<extra></extra>",
           "marker": {
            "color": [
             "rgb(7, 58, 32)",
             "rgb(93, 75, 201)"
            ]
           },
           "orientation": "h",
           "textangle": 0,
           "textposition": "outside",
           "texttemplate": "%{y}<br>%{x:.4s}",
           "type": "bar",
           "x": [
            3,
            4
           ],
           "y": [
            "Red",
            "1989"
           ]
          }
         ],
         "layout": {
          "bargap": 0.15,
          "font": {
           "size": 14
          },
          "plot_bgcolor": "#FFFFFF",
          "title": {
           "text": "Top Albums Used for Surprise Songs (US Leg)"
          },
          "xaxis": {
           "range": [
            0,
            6
           ],
           "showline": true,
           "visible": true
          },
          "yaxis": {
           "showline": false,
           "visible": true
          }
         },
         "name": "30-Apr-23"
        },
        {
         "data": [
          {
           "cliponaxis": false,
           "hoverinfo": "all",
           "hovertemplate": "<extra></extra>",
           "marker": {
            "color": [
             "rgb(236, 99, 109)",
             "rgb(122, 45, 20)"
            ]
           },
           "orientation": "h",
           "textangle": 0,
           "textposition": "outside",
           "texttemplate": "%{y}<br>%{x:.4s}",
           "type": "bar",
           "x": [
            4,
            5
           ],
           "y": [
            "Debut (Taylor Swift)",
            "evermore"
           ]
          }
         ],
         "layout": {
          "bargap": 0.15,
          "font": {
           "size": 14
          },
          "plot_bgcolor": "#FFFFFF",
          "title": {
           "text": "Top Albums Used for Surprise Songs (US Leg)"
          },
          "xaxis": {
           "range": [
            0,
            6
           ],
           "showline": true,
           "visible": true
          },
          "yaxis": {
           "showline": false,
           "visible": true
          }
         },
         "name": "30-Jun-23"
        },
        {
         "data": [
          {
           "cliponaxis": false,
           "hoverinfo": "all",
           "hovertemplate": "<extra></extra>",
           "marker": {
            "color": [
             "rgb(7, 58, 32)",
             "rgb(212, 208, 87)"
            ]
           },
           "orientation": "h",
           "textangle": 0,
           "textposition": "outside",
           "texttemplate": "%{y}<br>%{x:.4s}",
           "type": "bar",
           "x": [
            2,
            4
           ],
           "y": [
            "Red",
            "Speak Now"
           ]
          }
         ],
         "layout": {
          "bargap": 0.15,
          "font": {
           "size": 14
          },
          "plot_bgcolor": "#FFFFFF",
          "title": {
           "text": "Top Albums Used for Surprise Songs (US Leg)"
          },
          "xaxis": {
           "range": [
            0,
            6
           ],
           "showline": true,
           "visible": true
          },
          "yaxis": {
           "showline": false,
           "visible": true
          }
         },
         "name": "31-Mar-23"
        },
        {
         "data": [
          {
           "cliponaxis": false,
           "hoverinfo": "all",
           "hovertemplate": "<extra></extra>",
           "marker": {
            "color": [
             "rgb(236, 99, 109)",
             "rgb(93, 75, 201)"
            ]
           },
           "orientation": "h",
           "textangle": 0,
           "textposition": "outside",
           "texttemplate": "%{y}<br>%{x:.4s}",
           "type": "bar",
           "x": [
            4,
            5
           ],
           "y": [
            "Debut (Taylor Swift)",
            "1989"
           ]
          }
         ],
         "layout": {
          "bargap": 0.15,
          "font": {
           "size": 14
          },
          "plot_bgcolor": "#FFFFFF",
          "title": {
           "text": "Top Albums Used for Surprise Songs (US Leg)"
          },
          "xaxis": {
           "range": [
            0,
            6
           ],
           "showline": true,
           "visible": true
          },
          "yaxis": {
           "showline": false,
           "visible": true
          }
         },
         "name": "4-Aug-23"
        },
        {
         "data": [
          {
           "cliponaxis": false,
           "hoverinfo": "all",
           "hovertemplate": "<extra></extra>",
           "marker": {
            "color": [
             "rgb(144, 87, 131)",
             "rgb(7, 58, 32)"
            ]
           },
           "orientation": "h",
           "textangle": 0,
           "textposition": "outside",
           "texttemplate": "%{y}<br>%{x:.4s}",
           "type": "bar",
           "x": [
            3,
            5
           ],
           "y": [
            "Midnights",
            "Red"
           ]
          }
         ],
         "layout": {
          "bargap": 0.15,
          "font": {
           "size": 14
          },
          "plot_bgcolor": "#FFFFFF",
          "title": {
           "text": "Top Albums Used for Surprise Songs (US Leg)"
          },
          "xaxis": {
           "range": [
            0,
            6
           ],
           "showline": true,
           "visible": true
          },
          "yaxis": {
           "showline": false,
           "visible": true
          }
         },
         "name": "4-Jun-23"
        },
        {
         "data": [
          {
           "cliponaxis": false,
           "hoverinfo": "all",
           "hovertemplate": "<extra></extra>",
           "marker": {
            "color": [
             "rgb(171, 111, 146)",
             "rgb(144, 87, 131)"
            ]
           },
           "orientation": "h",
           "textangle": 0,
           "textposition": "outside",
           "texttemplate": "%{y}<br>%{x:.4s}",
           "type": "bar",
           "x": [
            4,
            5
           ],
           "y": [
            "Lover",
            "Midnights"
           ]
          }
         ],
         "layout": {
          "bargap": 0.15,
          "font": {
           "size": 14
          },
          "plot_bgcolor": "#FFFFFF",
          "title": {
           "text": "Top Albums Used for Surprise Songs (US Leg)"
          },
          "xaxis": {
           "range": [
            0,
            6
           ],
           "showline": true,
           "visible": true
          },
          "yaxis": {
           "showline": false,
           "visible": true
          }
         },
         "name": "5-Aug-23"
        },
        {
         "data": [
          {
           "cliponaxis": false,
           "hoverinfo": "all",
           "hovertemplate": "<extra></extra>",
           "marker": {
            "color": [
             "rgb(212, 208, 87)",
             "rgb(236, 99, 109)"
            ]
           },
           "orientation": "h",
           "textangle": 0,
           "textposition": "outside",
           "texttemplate": "%{y}<br>%{x:.4s}",
           "type": "bar",
           "x": [
            3,
            4
           ],
           "y": [
            "Speak Now",
            "Debut (Taylor Swift)"
           ]
          }
         ],
         "layout": {
          "bargap": 0.15,
          "font": {
           "size": 14
          },
          "plot_bgcolor": "#FFFFFF",
          "title": {
           "text": "Top Albums Used for Surprise Songs (US Leg)"
          },
          "xaxis": {
           "range": [
            0,
            6
           ],
           "showline": true,
           "visible": true
          },
          "yaxis": {
           "showline": false,
           "visible": true
          }
         },
         "name": "5-May-23"
        },
        {
         "data": [
          {
           "cliponaxis": false,
           "hoverinfo": "all",
           "hovertemplate": "<extra></extra>",
           "marker": {
            "color": [
             "rgb(93, 75, 201)",
             "rgb(83, 93, 192)"
            ]
           },
           "orientation": "h",
           "textangle": 0,
           "textposition": "outside",
           "texttemplate": "%{y}<br>%{x:.4s}",
           "type": "bar",
           "x": [
            3,
            4
           ],
           "y": [
            "1989",
            "Fearless"
           ]
          }
         ],
         "layout": {
          "bargap": 0.15,
          "font": {
           "size": 14
          },
          "plot_bgcolor": "#FFFFFF",
          "title": {
           "text": "Top Albums Used for Surprise Songs (US Leg)"
          },
          "xaxis": {
           "range": [
            0,
            6
           ],
           "showline": true,
           "visible": true
          },
          "yaxis": {
           "showline": false,
           "visible": true
          }
         },
         "name": "6-May-23"
        },
        {
         "data": [
          {
           "cliponaxis": false,
           "hoverinfo": "all",
           "hovertemplate": "<extra></extra>",
           "marker": {
            "color": [
             "rgb(46, 26, 159)",
             "rgb(142, 65, 234)"
            ]
           },
           "orientation": "h",
           "textangle": 0,
           "textposition": "outside",
           "texttemplate": "%{y}<br>%{x:.4s}",
           "type": "bar",
           "x": [
            4,
            6
           ],
           "y": [
            "Reputation",
            "folklore"
           ]
          }
         ],
         "layout": {
          "bargap": 0.15,
          "font": {
           "size": 14
          },
          "plot_bgcolor": "#FFFFFF",
          "title": {
           "text": "Top Albums Used for Surprise Songs (US Leg)"
          },
          "xaxis": {
           "range": [
            0,
            6
           ],
           "showline": true,
           "visible": true
          },
          "yaxis": {
           "showline": false,
           "visible": true
          }
         },
         "name": "7-Aug-23"
        },
        {
         "data": [
          {
           "cliponaxis": false,
           "hoverinfo": "all",
           "hovertemplate": "<extra></extra>",
           "marker": {
            "color": [
             "rgb(212, 208, 87)",
             "rgb(212, 208, 87)"
            ]
           },
           "orientation": "h",
           "textangle": 0,
           "textposition": "outside",
           "texttemplate": "%{y}<br>%{x:.4s}",
           "type": "bar",
           "x": [
            4,
            5
           ],
           "y": [
            "Speak Now",
            "Speak Now"
           ]
          }
         ],
         "layout": {
          "bargap": 0.15,
          "font": {
           "size": 14
          },
          "plot_bgcolor": "#FFFFFF",
          "title": {
           "text": "Top Albums Used for Surprise Songs (US Leg)"
          },
          "xaxis": {
           "range": [
            0,
            6
           ],
           "showline": true,
           "visible": true
          },
          "yaxis": {
           "showline": false,
           "visible": true
          }
         },
         "name": "7-Jul-23"
        },
        {
         "data": [
          {
           "cliponaxis": false,
           "hoverinfo": "all",
           "hovertemplate": "<extra></extra>",
           "marker": {
            "color": [
             "rgb(144, 87, 131)",
             "rgb(212, 208, 87)"
            ]
           },
           "orientation": "h",
           "textangle": 0,
           "textposition": "outside",
           "texttemplate": "%{y}<br>%{x:.4s}",
           "type": "bar",
           "x": [
            3,
            4
           ],
           "y": [
            "Midnights",
            "Speak Now"
           ]
          }
         ],
         "layout": {
          "bargap": 0.15,
          "font": {
           "size": 14
          },
          "plot_bgcolor": "#FFFFFF",
          "title": {
           "text": "Top Albums Used for Surprise Songs (US Leg)"
          },
          "xaxis": {
           "range": [
            0,
            6
           ],
           "showline": true,
           "visible": true
          },
          "yaxis": {
           "showline": false,
           "visible": true
          }
         },
         "name": "7-May-23"
        },
        {
         "data": [
          {
           "cliponaxis": false,
           "hoverinfo": "all",
           "hovertemplate": "<extra></extra>",
           "marker": {
            "color": [
             "rgb(93, 75, 201)",
             "rgb(46, 26, 159)"
            ]
           },
           "orientation": "h",
           "textangle": 0,
           "textposition": "outside",
           "texttemplate": "%{y}<br>%{x:.4s}",
           "type": "bar",
           "x": [
            4,
            6
           ],
           "y": [
            "1989",
            "Reputation"
           ]
          }
         ],
         "layout": {
          "bargap": 0.15,
          "font": {
           "size": 14
          },
          "plot_bgcolor": "#FFFFFF",
          "title": {
           "text": "Top Albums Used for Surprise Songs (US Leg)"
          },
          "xaxis": {
           "range": [
            0,
            6
           ],
           "showline": true,
           "visible": true
          },
          "yaxis": {
           "showline": false,
           "visible": true
          }
         },
         "name": "8-Aug-23"
        },
        {
         "data": [
          {
           "cliponaxis": false,
           "hoverinfo": "all",
           "hovertemplate": "<extra></extra>",
           "marker": {
            "color": [
             "rgb(212, 208, 87)",
             "rgb(122, 45, 20)"
            ]
           },
           "orientation": "h",
           "textangle": 0,
           "textposition": "outside",
           "texttemplate": "%{y}<br>%{x:.4s}",
           "type": "bar",
           "x": [
            4,
            5
           ],
           "y": [
            "Speak Now",
            "evermore"
           ]
          }
         ],
         "layout": {
          "bargap": 0.15,
          "font": {
           "size": 14
          },
          "plot_bgcolor": "#FFFFFF",
          "title": {
           "text": "Top Albums Used for Surprise Songs (US Leg)"
          },
          "xaxis": {
           "range": [
            0,
            6
           ],
           "showline": true,
           "visible": true
          },
          "yaxis": {
           "showline": false,
           "visible": true
          }
         },
         "name": "8-Jul-23"
        },
        {
         "data": [
          {
           "cliponaxis": false,
           "hoverinfo": "all",
           "hovertemplate": "<extra></extra>",
           "marker": {
            "color": [
             "rgb(93, 75, 201)",
             "rgb(46, 26, 159)"
            ]
           },
           "orientation": "h",
           "textangle": 0,
           "textposition": "outside",
           "texttemplate": "%{y}<br>%{x:.4s}",
           "type": "bar",
           "x": [
            4,
            6
           ],
           "y": [
            "1989",
            "Reputation"
           ]
          }
         ],
         "layout": {
          "bargap": 0.15,
          "font": {
           "size": 14
          },
          "plot_bgcolor": "#FFFFFF",
          "title": {
           "text": "Top Albums Used for Surprise Songs (US Leg)"
          },
          "xaxis": {
           "range": [
            0,
            6
           ],
           "showline": true,
           "visible": true
          },
          "yaxis": {
           "showline": false,
           "visible": true
          }
         },
         "name": "9-Aug-23"
        },
        {
         "data": [
          {
           "cliponaxis": false,
           "hoverinfo": "all",
           "hovertemplate": "<extra></extra>",
           "marker": {
            "color": [
             "rgb(212, 208, 87)",
             "rgb(7, 58, 32)"
            ]
           },
           "orientation": "h",
           "textangle": 0,
           "textposition": "outside",
           "texttemplate": "%{y}<br>%{x:.4s}",
           "type": "bar",
           "x": [
            3,
            5
           ],
           "y": [
            "Speak Now",
            "Red"
           ]
          }
         ],
         "layout": {
          "bargap": 0.15,
          "font": {
           "size": 14
          },
          "plot_bgcolor": "#FFFFFF",
          "title": {
           "text": "Top Albums Used for Surprise Songs (US Leg)"
          },
          "xaxis": {
           "range": [
            0,
            6
           ],
           "showline": true,
           "visible": true
          },
          "yaxis": {
           "showline": false,
           "visible": true
          }
         },
         "name": "9-Jun-23"
        }
       ],
       "layout": {
        "autosize": true,
        "bargap": 0.15,
        "font": {
         "size": 14
        },
        "plot_bgcolor": "#FFFFFF",
        "sliders": [
         {
          "active": 38,
          "currentvalue": {
           "font": {
            "size": 20
           },
           "prefix": "Date: ",
           "visible": true,
           "xanchor": "right"
          },
          "len": 0.9,
          "pad": {
           "b": 10,
           "t": 50
          },
          "steps": [
           {
            "args": [
             [
              "1-Apr-23"
             ],
             {
              "frame": {
               "duration": 800,
               "redraw": false
              },
              "mode": "immediate",
              "transition": {
               "duration": 800
              }
             }
            ],
            "label": "1-Apr-23",
            "method": "animate"
           },
           {
            "args": [
             [
              "1-Jul-23"
             ],
             {
              "frame": {
               "duration": 800,
               "redraw": false
              },
              "mode": "immediate",
              "transition": {
               "duration": 800
              }
             }
            ],
            "label": "1-Jul-23",
            "method": "animate"
           },
           {
            "args": [
             [
              "10-Jun-23"
             ],
             {
              "frame": {
               "duration": 800,
               "redraw": false
              },
              "mode": "immediate",
              "transition": {
               "duration": 800
              }
             }
            ],
            "label": "10-Jun-23",
            "method": "animate"
           },
           {
            "args": [
             [
              "12-May-23"
             ],
             {
              "frame": {
               "duration": 800,
               "redraw": false
              },
              "mode": "immediate",
              "transition": {
               "duration": 800
              }
             }
            ],
            "label": "12-May-23",
            "method": "animate"
           },
           {
            "args": [
             [
              "13-Apr-23"
             ],
             {
              "frame": {
               "duration": 800,
               "redraw": false
              },
              "mode": "immediate",
              "transition": {
               "duration": 800
              }
             }
            ],
            "label": "13-Apr-23",
            "method": "animate"
           },
           {
            "args": [
             [
              "13-May-23"
             ],
             {
              "frame": {
               "duration": 800,
               "redraw": false
              },
              "mode": "immediate",
              "transition": {
               "duration": 800
              }
             }
            ],
            "label": "13-May-23",
            "method": "animate"
           },
           {
            "args": [
             [
              "14-Apr-23"
             ],
             {
              "frame": {
               "duration": 800,
               "redraw": false
              },
              "mode": "immediate",
              "transition": {
               "duration": 800
              }
             }
            ],
            "label": "14-Apr-23",
            "method": "animate"
           },
           {
            "args": [
             [
              "14-Jul-23"
             ],
             {
              "frame": {
               "duration": 800,
               "redraw": false
              },
              "mode": "immediate",
              "transition": {
               "duration": 800
              }
             }
            ],
            "label": "14-Jul-23",
            "method": "animate"
           },
           {
            "args": [
             [
              "14-May-23"
             ],
             {
              "frame": {
               "duration": 800,
               "redraw": false
              },
              "mode": "immediate",
              "transition": {
               "duration": 800
              }
             }
            ],
            "label": "14-May-23",
            "method": "animate"
           },
           {
            "args": [
             [
              "15-Apr-23"
             ],
             {
              "frame": {
               "duration": 800,
               "redraw": false
              },
              "mode": "immediate",
              "transition": {
               "duration": 800
              }
             }
            ],
            "label": "15-Apr-23",
            "method": "animate"
           },
           {
            "args": [
             [
              "15-Jul-23"
             ],
             {
              "frame": {
               "duration": 800,
               "redraw": false
              },
              "mode": "immediate",
              "transition": {
               "duration": 800
              }
             }
            ],
            "label": "15-Jul-23",
            "method": "animate"
           },
           {
            "args": [
             [
              "16-Jun-23"
             ],
             {
              "frame": {
               "duration": 800,
               "redraw": false
              },
              "mode": "immediate",
              "transition": {
               "duration": 800
              }
             }
            ],
            "label": "16-Jun-23",
            "method": "animate"
           },
           {
            "args": [
             [
              "17-Jun-23"
             ],
             {
              "frame": {
               "duration": 800,
               "redraw": false
              },
              "mode": "immediate",
              "transition": {
               "duration": 800
              }
             }
            ],
            "label": "17-Jun-23",
            "method": "animate"
           },
           {
            "args": [
             [
              "17-Mar-23"
             ],
             {
              "frame": {
               "duration": 800,
               "redraw": false
              },
              "mode": "immediate",
              "transition": {
               "duration": 800
              }
             }
            ],
            "label": "17-Mar-23",
            "method": "animate"
           },
           {
            "args": [
             [
              "19-May-23"
             ],
             {
              "frame": {
               "duration": 800,
               "redraw": false
              },
              "mode": "immediate",
              "transition": {
               "duration": 800
              }
             }
            ],
            "label": "19-May-23",
            "method": "animate"
           },
           {
            "args": [
             [
              "2-Apr-23"
             ],
             {
              "frame": {
               "duration": 800,
               "redraw": false
              },
              "mode": "immediate",
              "transition": {
               "duration": 800
              }
             }
            ],
            "label": "2-Apr-23",
            "method": "animate"
           },
           {
            "args": [
             [
              "2-Jun-23"
             ],
             {
              "frame": {
               "duration": 800,
               "redraw": false
              },
              "mode": "immediate",
              "transition": {
               "duration": 800
              }
             }
            ],
            "label": "2-Jun-23",
            "method": "animate"
           },
           {
            "args": [
             [
              "20-May-23"
             ],
             {
              "frame": {
               "duration": 800,
               "redraw": false
              },
              "mode": "immediate",
              "transition": {
               "duration": 800
              }
             }
            ],
            "label": "20-May-23",
            "method": "animate"
           },
           {
            "args": [
             [
              "21-Apr-23"
             ],
             {
              "frame": {
               "duration": 800,
               "redraw": false
              },
              "mode": "immediate",
              "transition": {
               "duration": 800
              }
             }
            ],
            "label": "21-Apr-23",
            "method": "animate"
           },
           {
            "args": [
             [
              "21-May-23"
             ],
             {
              "frame": {
               "duration": 800,
               "redraw": false
              },
              "mode": "immediate",
              "transition": {
               "duration": 800
              }
             }
            ],
            "label": "21-May-23",
            "method": "animate"
           },
           {
            "args": [
             [
              "22-Apr-23"
             ],
             {
              "frame": {
               "duration": 800,
               "redraw": false
              },
              "mode": "immediate",
              "transition": {
               "duration": 800
              }
             }
            ],
            "label": "22-Apr-23",
            "method": "animate"
           },
           {
            "args": [
             [
              "22-Jul-23"
             ],
             {
              "frame": {
               "duration": 800,
               "redraw": false
              },
              "mode": "immediate",
              "transition": {
               "duration": 800
              }
             }
            ],
            "label": "22-Jul-23",
            "method": "animate"
           },
           {
            "args": [
             [
              "23-Apr-23"
             ],
             {
              "frame": {
               "duration": 800,
               "redraw": false
              },
              "mode": "immediate",
              "transition": {
               "duration": 800
              }
             }
            ],
            "label": "23-Apr-23",
            "method": "animate"
           },
           {
            "args": [
             [
              "23-Jul-23"
             ],
             {
              "frame": {
               "duration": 800,
               "redraw": false
              },
              "mode": "immediate",
              "transition": {
               "duration": 800
              }
             }
            ],
            "label": "23-Jul-23",
            "method": "animate"
           },
           {
            "args": [
             [
              "23-Jun-23"
             ],
             {
              "frame": {
               "duration": 800,
               "redraw": false
              },
              "mode": "immediate",
              "transition": {
               "duration": 800
              }
             }
            ],
            "label": "23-Jun-23",
            "method": "animate"
           },
           {
            "args": [
             [
              "24-Jun-23"
             ],
             {
              "frame": {
               "duration": 800,
               "redraw": false
              },
              "mode": "immediate",
              "transition": {
               "duration": 800
              }
             }
            ],
            "label": "24-Jun-23",
            "method": "animate"
           },
           {
            "args": [
             [
              "24-Mar-23"
             ],
             {
              "frame": {
               "duration": 800,
               "redraw": false
              },
              "mode": "immediate",
              "transition": {
               "duration": 800
              }
             }
            ],
            "label": "24-Mar-23",
            "method": "animate"
           },
           {
            "args": [
             [
              "25-Mar-23"
             ],
             {
              "frame": {
               "duration": 800,
               "redraw": false
              },
              "mode": "immediate",
              "transition": {
               "duration": 800
              }
             }
            ],
            "label": "25-Mar-23",
            "method": "animate"
           },
           {
            "args": [
             [
              "26-May-23"
             ],
             {
              "frame": {
               "duration": 800,
               "redraw": false
              },
              "mode": "immediate",
              "transition": {
               "duration": 800
              }
             }
            ],
            "label": "26-May-23",
            "method": "animate"
           },
           {
            "args": [
             [
              "27-May-23"
             ],
             {
              "frame": {
               "duration": 800,
               "redraw": false
              },
              "mode": "immediate",
              "transition": {
               "duration": 800
              }
             }
            ],
            "label": "27-May-23",
            "method": "animate"
           },
           {
            "args": [
             [
              "28-Apr-23"
             ],
             {
              "frame": {
               "duration": 800,
               "redraw": false
              },
              "mode": "immediate",
              "transition": {
               "duration": 800
              }
             }
            ],
            "label": "28-Apr-23",
            "method": "animate"
           },
           {
            "args": [
             [
              "28-Jul-23"
             ],
             {
              "frame": {
               "duration": 800,
               "redraw": false
              },
              "mode": "immediate",
              "transition": {
               "duration": 800
              }
             }
            ],
            "label": "28-Jul-23",
            "method": "animate"
           },
           {
            "args": [
             [
              "28-May-23"
             ],
             {
              "frame": {
               "duration": 800,
               "redraw": false
              },
              "mode": "immediate",
              "transition": {
               "duration": 800
              }
             }
            ],
            "label": "28-May-23",
            "method": "animate"
           },
           {
            "args": [
             [
              "29-Apr-23"
             ],
             {
              "frame": {
               "duration": 800,
               "redraw": false
              },
              "mode": "immediate",
              "transition": {
               "duration": 800
              }
             }
            ],
            "label": "29-Apr-23",
            "method": "animate"
           },
           {
            "args": [
             [
              "29-Jul-23"
             ],
             {
              "frame": {
               "duration": 800,
               "redraw": false
              },
              "mode": "immediate",
              "transition": {
               "duration": 800
              }
             }
            ],
            "label": "29-Jul-23",
            "method": "animate"
           },
           {
            "args": [
             [
              "3-Aug-23"
             ],
             {
              "frame": {
               "duration": 800,
               "redraw": false
              },
              "mode": "immediate",
              "transition": {
               "duration": 800
              }
             }
            ],
            "label": "3-Aug-23",
            "method": "animate"
           },
           {
            "args": [
             [
              "3-Jun-23"
             ],
             {
              "frame": {
               "duration": 800,
               "redraw": false
              },
              "mode": "immediate",
              "transition": {
               "duration": 800
              }
             }
            ],
            "label": "3-Jun-23",
            "method": "animate"
           },
           {
            "args": [
             [
              "30-Apr-23"
             ],
             {
              "frame": {
               "duration": 800,
               "redraw": false
              },
              "mode": "immediate",
              "transition": {
               "duration": 800
              }
             }
            ],
            "label": "30-Apr-23",
            "method": "animate"
           },
           {
            "args": [
             [
              "30-Jun-23"
             ],
             {
              "frame": {
               "duration": 800,
               "redraw": false
              },
              "mode": "immediate",
              "transition": {
               "duration": 800
              }
             }
            ],
            "label": "30-Jun-23",
            "method": "animate"
           },
           {
            "args": [
             [
              "31-Mar-23"
             ],
             {
              "frame": {
               "duration": 800,
               "redraw": false
              },
              "mode": "immediate",
              "transition": {
               "duration": 800
              }
             }
            ],
            "label": "31-Mar-23",
            "method": "animate"
           },
           {
            "args": [
             [
              "4-Aug-23"
             ],
             {
              "frame": {
               "duration": 800,
               "redraw": false
              },
              "mode": "immediate",
              "transition": {
               "duration": 800
              }
             }
            ],
            "label": "4-Aug-23",
            "method": "animate"
           },
           {
            "args": [
             [
              "4-Jun-23"
             ],
             {
              "frame": {
               "duration": 800,
               "redraw": false
              },
              "mode": "immediate",
              "transition": {
               "duration": 800
              }
             }
            ],
            "label": "4-Jun-23",
            "method": "animate"
           },
           {
            "args": [
             [
              "5-Aug-23"
             ],
             {
              "frame": {
               "duration": 800,
               "redraw": false
              },
              "mode": "immediate",
              "transition": {
               "duration": 800
              }
             }
            ],
            "label": "5-Aug-23",
            "method": "animate"
           },
           {
            "args": [
             [
              "5-May-23"
             ],
             {
              "frame": {
               "duration": 800,
               "redraw": false
              },
              "mode": "immediate",
              "transition": {
               "duration": 800
              }
             }
            ],
            "label": "5-May-23",
            "method": "animate"
           },
           {
            "args": [
             [
              "6-May-23"
             ],
             {
              "frame": {
               "duration": 800,
               "redraw": false
              },
              "mode": "immediate",
              "transition": {
               "duration": 800
              }
             }
            ],
            "label": "6-May-23",
            "method": "animate"
           },
           {
            "args": [
             [
              "7-Aug-23"
             ],
             {
              "frame": {
               "duration": 800,
               "redraw": false
              },
              "mode": "immediate",
              "transition": {
               "duration": 800
              }
             }
            ],
            "label": "7-Aug-23",
            "method": "animate"
           },
           {
            "args": [
             [
              "7-Jul-23"
             ],
             {
              "frame": {
               "duration": 800,
               "redraw": false
              },
              "mode": "immediate",
              "transition": {
               "duration": 800
              }
             }
            ],
            "label": "7-Jul-23",
            "method": "animate"
           },
           {
            "args": [
             [
              "7-May-23"
             ],
             {
              "frame": {
               "duration": 800,
               "redraw": false
              },
              "mode": "immediate",
              "transition": {
               "duration": 800
              }
             }
            ],
            "label": "7-May-23",
            "method": "animate"
           },
           {
            "args": [
             [
              "8-Aug-23"
             ],
             {
              "frame": {
               "duration": 800,
               "redraw": false
              },
              "mode": "immediate",
              "transition": {
               "duration": 800
              }
             }
            ],
            "label": "8-Aug-23",
            "method": "animate"
           },
           {
            "args": [
             [
              "8-Jul-23"
             ],
             {
              "frame": {
               "duration": 800,
               "redraw": false
              },
              "mode": "immediate",
              "transition": {
               "duration": 800
              }
             }
            ],
            "label": "8-Jul-23",
            "method": "animate"
           },
           {
            "args": [
             [
              "9-Aug-23"
             ],
             {
              "frame": {
               "duration": 800,
               "redraw": false
              },
              "mode": "immediate",
              "transition": {
               "duration": 800
              }
             }
            ],
            "label": "9-Aug-23",
            "method": "animate"
           },
           {
            "args": [
             [
              "9-Jun-23"
             ],
             {
              "frame": {
               "duration": 800,
               "redraw": false
              },
              "mode": "immediate",
              "transition": {
               "duration": 800
              }
             }
            ],
            "label": "9-Jun-23",
            "method": "animate"
           }
          ],
          "transition": {
           "duration": 300,
           "easing": "cubic-in-out"
          },
          "x": 0.1,
          "xanchor": "left",
          "y": 0,
          "yanchor": "top"
         }
        ],
        "template": {
         "data": {
          "bar": [
           {
            "error_x": {
             "color": "#2a3f5f"
            },
            "error_y": {
             "color": "#2a3f5f"
            },
            "marker": {
             "line": {
              "color": "#E5ECF6",
              "width": 0.5
             },
             "pattern": {
              "fillmode": "overlay",
              "size": 10,
              "solidity": 0.2
             }
            },
            "type": "bar"
           }
          ],
          "barpolar": [
           {
            "marker": {
             "line": {
              "color": "#E5ECF6",
              "width": 0.5
             },
             "pattern": {
              "fillmode": "overlay",
              "size": 10,
              "solidity": 0.2
             }
            },
            "type": "barpolar"
           }
          ],
          "carpet": [
           {
            "aaxis": {
             "endlinecolor": "#2a3f5f",
             "gridcolor": "white",
             "linecolor": "white",
             "minorgridcolor": "white",
             "startlinecolor": "#2a3f5f"
            },
            "baxis": {
             "endlinecolor": "#2a3f5f",
             "gridcolor": "white",
             "linecolor": "white",
             "minorgridcolor": "white",
             "startlinecolor": "#2a3f5f"
            },
            "type": "carpet"
           }
          ],
          "choropleth": [
           {
            "colorbar": {
             "outlinewidth": 0,
             "ticks": ""
            },
            "type": "choropleth"
           }
          ],
          "contour": [
           {
            "colorbar": {
             "outlinewidth": 0,
             "ticks": ""
            },
            "colorscale": [
             [
              0,
              "#0d0887"
             ],
             [
              0.1111111111111111,
              "#46039f"
             ],
             [
              0.2222222222222222,
              "#7201a8"
             ],
             [
              0.3333333333333333,
              "#9c179e"
             ],
             [
              0.4444444444444444,
              "#bd3786"
             ],
             [
              0.5555555555555556,
              "#d8576b"
             ],
             [
              0.6666666666666666,
              "#ed7953"
             ],
             [
              0.7777777777777778,
              "#fb9f3a"
             ],
             [
              0.8888888888888888,
              "#fdca26"
             ],
             [
              1,
              "#f0f921"
             ]
            ],
            "type": "contour"
           }
          ],
          "contourcarpet": [
           {
            "colorbar": {
             "outlinewidth": 0,
             "ticks": ""
            },
            "type": "contourcarpet"
           }
          ],
          "heatmap": [
           {
            "colorbar": {
             "outlinewidth": 0,
             "ticks": ""
            },
            "colorscale": [
             [
              0,
              "#0d0887"
             ],
             [
              0.1111111111111111,
              "#46039f"
             ],
             [
              0.2222222222222222,
              "#7201a8"
             ],
             [
              0.3333333333333333,
              "#9c179e"
             ],
             [
              0.4444444444444444,
              "#bd3786"
             ],
             [
              0.5555555555555556,
              "#d8576b"
             ],
             [
              0.6666666666666666,
              "#ed7953"
             ],
             [
              0.7777777777777778,
              "#fb9f3a"
             ],
             [
              0.8888888888888888,
              "#fdca26"
             ],
             [
              1,
              "#f0f921"
             ]
            ],
            "type": "heatmap"
           }
          ],
          "heatmapgl": [
           {
            "colorbar": {
             "outlinewidth": 0,
             "ticks": ""
            },
            "colorscale": [
             [
              0,
              "#0d0887"
             ],
             [
              0.1111111111111111,
              "#46039f"
             ],
             [
              0.2222222222222222,
              "#7201a8"
             ],
             [
              0.3333333333333333,
              "#9c179e"
             ],
             [
              0.4444444444444444,
              "#bd3786"
             ],
             [
              0.5555555555555556,
              "#d8576b"
             ],
             [
              0.6666666666666666,
              "#ed7953"
             ],
             [
              0.7777777777777778,
              "#fb9f3a"
             ],
             [
              0.8888888888888888,
              "#fdca26"
             ],
             [
              1,
              "#f0f921"
             ]
            ],
            "type": "heatmapgl"
           }
          ],
          "histogram": [
           {
            "marker": {
             "pattern": {
              "fillmode": "overlay",
              "size": 10,
              "solidity": 0.2
             }
            },
            "type": "histogram"
           }
          ],
          "histogram2d": [
           {
            "colorbar": {
             "outlinewidth": 0,
             "ticks": ""
            },
            "colorscale": [
             [
              0,
              "#0d0887"
             ],
             [
              0.1111111111111111,
              "#46039f"
             ],
             [
              0.2222222222222222,
              "#7201a8"
             ],
             [
              0.3333333333333333,
              "#9c179e"
             ],
             [
              0.4444444444444444,
              "#bd3786"
             ],
             [
              0.5555555555555556,
              "#d8576b"
             ],
             [
              0.6666666666666666,
              "#ed7953"
             ],
             [
              0.7777777777777778,
              "#fb9f3a"
             ],
             [
              0.8888888888888888,
              "#fdca26"
             ],
             [
              1,
              "#f0f921"
             ]
            ],
            "type": "histogram2d"
           }
          ],
          "histogram2dcontour": [
           {
            "colorbar": {
             "outlinewidth": 0,
             "ticks": ""
            },
            "colorscale": [
             [
              0,
              "#0d0887"
             ],
             [
              0.1111111111111111,
              "#46039f"
             ],
             [
              0.2222222222222222,
              "#7201a8"
             ],
             [
              0.3333333333333333,
              "#9c179e"
             ],
             [
              0.4444444444444444,
              "#bd3786"
             ],
             [
              0.5555555555555556,
              "#d8576b"
             ],
             [
              0.6666666666666666,
              "#ed7953"
             ],
             [
              0.7777777777777778,
              "#fb9f3a"
             ],
             [
              0.8888888888888888,
              "#fdca26"
             ],
             [
              1,
              "#f0f921"
             ]
            ],
            "type": "histogram2dcontour"
           }
          ],
          "mesh3d": [
           {
            "colorbar": {
             "outlinewidth": 0,
             "ticks": ""
            },
            "type": "mesh3d"
           }
          ],
          "parcoords": [
           {
            "line": {
             "colorbar": {
              "outlinewidth": 0,
              "ticks": ""
             }
            },
            "type": "parcoords"
           }
          ],
          "pie": [
           {
            "automargin": true,
            "type": "pie"
           }
          ],
          "scatter": [
           {
            "fillpattern": {
             "fillmode": "overlay",
             "size": 10,
             "solidity": 0.2
            },
            "type": "scatter"
           }
          ],
          "scatter3d": [
           {
            "line": {
             "colorbar": {
              "outlinewidth": 0,
              "ticks": ""
             }
            },
            "marker": {
             "colorbar": {
              "outlinewidth": 0,
              "ticks": ""
             }
            },
            "type": "scatter3d"
           }
          ],
          "scattercarpet": [
           {
            "marker": {
             "colorbar": {
              "outlinewidth": 0,
              "ticks": ""
             }
            },
            "type": "scattercarpet"
           }
          ],
          "scattergeo": [
           {
            "marker": {
             "colorbar": {
              "outlinewidth": 0,
              "ticks": ""
             }
            },
            "type": "scattergeo"
           }
          ],
          "scattergl": [
           {
            "marker": {
             "colorbar": {
              "outlinewidth": 0,
              "ticks": ""
             }
            },
            "type": "scattergl"
           }
          ],
          "scattermapbox": [
           {
            "marker": {
             "colorbar": {
              "outlinewidth": 0,
              "ticks": ""
             }
            },
            "type": "scattermapbox"
           }
          ],
          "scatterpolar": [
           {
            "marker": {
             "colorbar": {
              "outlinewidth": 0,
              "ticks": ""
             }
            },
            "type": "scatterpolar"
           }
          ],
          "scatterpolargl": [
           {
            "marker": {
             "colorbar": {
              "outlinewidth": 0,
              "ticks": ""
             }
            },
            "type": "scatterpolargl"
           }
          ],
          "scatterternary": [
           {
            "marker": {
             "colorbar": {
              "outlinewidth": 0,
              "ticks": ""
             }
            },
            "type": "scatterternary"
           }
          ],
          "surface": [
           {
            "colorbar": {
             "outlinewidth": 0,
             "ticks": ""
            },
            "colorscale": [
             [
              0,
              "#0d0887"
             ],
             [
              0.1111111111111111,
              "#46039f"
             ],
             [
              0.2222222222222222,
              "#7201a8"
             ],
             [
              0.3333333333333333,
              "#9c179e"
             ],
             [
              0.4444444444444444,
              "#bd3786"
             ],
             [
              0.5555555555555556,
              "#d8576b"
             ],
             [
              0.6666666666666666,
              "#ed7953"
             ],
             [
              0.7777777777777778,
              "#fb9f3a"
             ],
             [
              0.8888888888888888,
              "#fdca26"
             ],
             [
              1,
              "#f0f921"
             ]
            ],
            "type": "surface"
           }
          ],
          "table": [
           {
            "cells": {
             "fill": {
              "color": "#EBF0F8"
             },
             "line": {
              "color": "white"
             }
            },
            "header": {
             "fill": {
              "color": "#C8D4E3"
             },
             "line": {
              "color": "white"
             }
            },
            "type": "table"
           }
          ]
         },
         "layout": {
          "annotationdefaults": {
           "arrowcolor": "#2a3f5f",
           "arrowhead": 0,
           "arrowwidth": 1
          },
          "autotypenumbers": "strict",
          "coloraxis": {
           "colorbar": {
            "outlinewidth": 0,
            "ticks": ""
           }
          },
          "colorscale": {
           "diverging": [
            [
             0,
             "#8e0152"
            ],
            [
             0.1,
             "#c51b7d"
            ],
            [
             0.2,
             "#de77ae"
            ],
            [
             0.3,
             "#f1b6da"
            ],
            [
             0.4,
             "#fde0ef"
            ],
            [
             0.5,
             "#f7f7f7"
            ],
            [
             0.6,
             "#e6f5d0"
            ],
            [
             0.7,
             "#b8e186"
            ],
            [
             0.8,
             "#7fbc41"
            ],
            [
             0.9,
             "#4d9221"
            ],
            [
             1,
             "#276419"
            ]
           ],
           "sequential": [
            [
             0,
             "#0d0887"
            ],
            [
             0.1111111111111111,
             "#46039f"
            ],
            [
             0.2222222222222222,
             "#7201a8"
            ],
            [
             0.3333333333333333,
             "#9c179e"
            ],
            [
             0.4444444444444444,
             "#bd3786"
            ],
            [
             0.5555555555555556,
             "#d8576b"
            ],
            [
             0.6666666666666666,
             "#ed7953"
            ],
            [
             0.7777777777777778,
             "#fb9f3a"
            ],
            [
             0.8888888888888888,
             "#fdca26"
            ],
            [
             1,
             "#f0f921"
            ]
           ],
           "sequentialminus": [
            [
             0,
             "#0d0887"
            ],
            [
             0.1111111111111111,
             "#46039f"
            ],
            [
             0.2222222222222222,
             "#7201a8"
            ],
            [
             0.3333333333333333,
             "#9c179e"
            ],
            [
             0.4444444444444444,
             "#bd3786"
            ],
            [
             0.5555555555555556,
             "#d8576b"
            ],
            [
             0.6666666666666666,
             "#ed7953"
            ],
            [
             0.7777777777777778,
             "#fb9f3a"
            ],
            [
             0.8888888888888888,
             "#fdca26"
            ],
            [
             1,
             "#f0f921"
            ]
           ]
          },
          "colorway": [
           "#636efa",
           "#EF553B",
           "#00cc96",
           "#ab63fa",
           "#FFA15A",
           "#19d3f3",
           "#FF6692",
           "#B6E880",
           "#FF97FF",
           "#FECB52"
          ],
          "font": {
           "color": "#2a3f5f"
          },
          "geo": {
           "bgcolor": "white",
           "lakecolor": "white",
           "landcolor": "#E5ECF6",
           "showlakes": true,
           "showland": true,
           "subunitcolor": "white"
          },
          "hoverlabel": {
           "align": "left"
          },
          "hovermode": "closest",
          "mapbox": {
           "style": "light"
          },
          "paper_bgcolor": "white",
          "plot_bgcolor": "#E5ECF6",
          "polar": {
           "angularaxis": {
            "gridcolor": "white",
            "linecolor": "white",
            "ticks": ""
           },
           "bgcolor": "#E5ECF6",
           "radialaxis": {
            "gridcolor": "white",
            "linecolor": "white",
            "ticks": ""
           }
          },
          "scene": {
           "xaxis": {
            "backgroundcolor": "#E5ECF6",
            "gridcolor": "white",
            "gridwidth": 2,
            "linecolor": "white",
            "showbackground": true,
            "ticks": "",
            "zerolinecolor": "white"
           },
           "yaxis": {
            "backgroundcolor": "#E5ECF6",
            "gridcolor": "white",
            "gridwidth": 2,
            "linecolor": "white",
            "showbackground": true,
            "ticks": "",
            "zerolinecolor": "white"
           },
           "zaxis": {
            "backgroundcolor": "#E5ECF6",
            "gridcolor": "white",
            "gridwidth": 2,
            "linecolor": "white",
            "showbackground": true,
            "ticks": "",
            "zerolinecolor": "white"
           }
          },
          "shapedefaults": {
           "line": {
            "color": "#2a3f5f"
           }
          },
          "ternary": {
           "aaxis": {
            "gridcolor": "white",
            "linecolor": "white",
            "ticks": ""
           },
           "baxis": {
            "gridcolor": "white",
            "linecolor": "white",
            "ticks": ""
           },
           "bgcolor": "#E5ECF6",
           "caxis": {
            "gridcolor": "white",
            "linecolor": "white",
            "ticks": ""
           }
          },
          "title": {
           "x": 0.05
          },
          "xaxis": {
           "automargin": true,
           "gridcolor": "white",
           "linecolor": "white",
           "ticks": "",
           "title": {
            "standoff": 15
           },
           "zerolinecolor": "white",
           "zerolinewidth": 2
          },
          "yaxis": {
           "automargin": true,
           "gridcolor": "white",
           "linecolor": "white",
           "ticks": "",
           "title": {
            "standoff": 15
           },
           "zerolinecolor": "white",
           "zerolinewidth": 2
          }
         }
        },
        "title": {
         "text": "Top Albums Used for Surprise Songs (US Leg)"
        },
        "updatemenus": [
         {
          "active": 1,
          "buttons": [
           {
            "args": [
             null,
             {
              "frame": {
               "duration": 800,
               "redraw": false
              },
              "fromcurrent": true,
              "transition": {
               "duration": 800,
               "easing": "quadratic-in-out"
              }
             }
            ],
            "label": "Play",
            "method": "animate"
           },
           {
            "args": [
             [
              null
             ],
             {
              "frame": {
               "duration": 0,
               "redraw": false
              },
              "mode": "immediate",
              "transition": {
               "duration": 0
              }
             }
            ],
            "label": "Pause",
            "method": "animate"
           }
          ],
          "direction": "left",
          "pad": {
           "r": 10,
           "t": 87
          },
          "showactive": true,
          "type": "buttons",
          "x": 0.1,
          "xanchor": "right",
          "y": 0,
          "yanchor": "top"
         }
        ],
        "xaxis": {
         "autorange": false,
         "range": [
          3.72713564312148,
          4.010398861486627
         ],
         "showline": true,
         "showticklabels": true,
         "title": {
          "text": "Number of Surprise Songs Played"
         },
         "type": "linear",
         "visible": true
        },
        "yaxis": {
         "autorange": false,
         "range": [
          -1.3331347022153177,
          12.129444667284744
         ],
         "showline": false,
         "showticklabels": false,
         "title": {
          "text": "Album"
         },
         "type": "category",
         "visible": true
        }
       }
      },
      "image/png": "[encoded data removed]",
      "text/html": [
       "<div>                            <div id=\"c6e1c55e-e256-4ef7-9ea4-62d2f2a9c081\" class=\"plotly-graph-div\" style=\"height:525px; width:100%;\"></div>            <script type=\"text/javascript\">                require([\"plotly\"], function(Plotly) {                    window.PLOTLYENV=window.PLOTLYENV || {};                                    if (document.getElementById(\"c6e1c55e-e256-4ef7-9ea4-62d2f2a9c081\")) {                    Plotly.newPlot(                        \"c6e1c55e-e256-4ef7-9ea4-62d2f2a9c081\",                        [{\"cliponaxis\":false,\"hoverinfo\":\"all\",\"marker\":{\"color\":[\"rgb(171, 111, 146)\",\"rgb(93, 75, 201)\"]},\"orientation\":\"h\",\"textangle\":0,\"textposition\":\"outside\",\"texttemplate\":\"%{y}<br>%{x:.4s}\",\"x\":[2,4],\"y\":[\"Lover\",\"1989\"],\"type\":\"bar\"}],                        {\"bargap\":0.15,\"font\":{\"size\":14},\"plot_bgcolor\":\"#FFFFFF\",\"title\":{\"text\":\"Top Albums Used for Surprise Songs (US Leg)\"},\"xaxis\":{\"range\":[0,6],\"showline\":true,\"visible\":true,\"title\":{\"text\":\"Number of Surprise Songs Played\"},\"showticklabels\":true},\"yaxis\":{\"showline\":false,\"visible\":true,\"title\":{\"text\":\"Album\"},\"showticklabels\":false},\"template\":{\"data\":{\"histogram2dcontour\":[{\"type\":\"histogram2dcontour\",\"colorbar\":{\"outlinewidth\":0,\"ticks\":\"\"},\"colorscale\":[[0.0,\"#0d0887\"],[0.1111111111111111,\"#46039f\"],[0.2222222222222222,\"#7201a8\"],[0.3333333333333333,\"#9c179e\"],[0.4444444444444444,\"#bd3786\"],[0.5555555555555556,\"#d8576b\"],[0.6666666666666666,\"#ed7953\"],[0.7777777777777778,\"#fb9f3a\"],[0.8888888888888888,\"#fdca26\"],[1.0,\"#f0f921\"]]}],\"choropleth\":[{\"type\":\"choropleth\",\"colorbar\":{\"outlinewidth\":0,\"ticks\":\"\"}}],\"histogram2d\":[{\"type\":\"histogram2d\",\"colorbar\":{\"outlinewidth\":0,\"ticks\":\"\"},\"colorscale\":[[0.0,\"#0d0887\"],[0.1111111111111111,\"#46039f\"],[0.2222222222222222,\"#7201a8\"],[0.3333333333333333,\"#9c179e\"],[0.4444444444444444,\"#bd3786\"],[0.5555555555555556,\"#d8576b\"],[0.6666666666666666,\"#ed7953\"],[0.7777777777777778,\"#fb9f3a\"],[0.8888888888888888,\"#fdca26\"],[1.0,\"#f0f921\"]]}],\"heatmap\":[{\"type\":\"heatmap\",\"colorbar\":{\"outlinewidth\":0,\"ticks\":\"\"},\"colorscale\":[[0.0,\"#0d0887\"],[0.1111111111111111,\"#46039f\"],[0.2222222222222222,\"#7201a8\"],[0.3333333333333333,\"#9c179e\"],[0.4444444444444444,\"#bd3786\"],[0.5555555555555556,\"#d8576b\"],[0.6666666666666666,\"#ed7953\"],[0.7777777777777778,\"#fb9f3a\"],[0.8888888888888888,\"#fdca26\"],[1.0,\"#f0f921\"]]}],\"heatmapgl\":[{\"type\":\"heatmapgl\",\"colorbar\":{\"outlinewidth\":0,\"ticks\":\"\"},\"colorscale\":[[0.0,\"#0d0887\"],[0.1111111111111111,\"#46039f\"],[0.2222222222222222,\"#7201a8\"],[0.3333333333333333,\"#9c179e\"],[0.4444444444444444,\"#bd3786\"],[0.5555555555555556,\"#d8576b\"],[0.6666666666666666,\"#ed7953\"],[0.7777777777777778,\"#fb9f3a\"],[0.8888888888888888,\"#fdca26\"],[1.0,\"#f0f921\"]]}],\"contourcarpet\":[{\"type\":\"contourcarpet\",\"colorbar\":{\"outlinewidth\":0,\"ticks\":\"\"}}],\"contour\":[{\"type\":\"contour\",\"colorbar\":{\"outlinewidth\":0,\"ticks\":\"\"},\"colorscale\":[[0.0,\"#0d0887\"],[0.1111111111111111,\"#46039f\"],[0.2222222222222222,\"#7201a8\"],[0.3333333333333333,\"#9c179e\"],[0.4444444444444444,\"#bd3786\"],[0.5555555555555556,\"#d8576b\"],[0.6666666666666666,\"#ed7953\"],[0.7777777777777778,\"#fb9f3a\"],[0.8888888888888888,\"#fdca26\"],[1.0,\"#f0f921\"]]}],\"surface\":[{\"type\":\"surface\",\"colorbar\":{\"outlinewidth\":0,\"ticks\":\"\"},\"colorscale\":[[0.0,\"#0d0887\"],[0.1111111111111111,\"#46039f\"],[0.2222222222222222,\"#7201a8\"],[0.3333333333333333,\"#9c179e\"],[0.4444444444444444,\"#bd3786\"],[0.5555555555555556,\"#d8576b\"],[0.6666666666666666,\"#ed7953\"],[0.7777777777777778,\"#fb9f3a\"],[0.8888888888888888,\"#fdca26\"],[1.0,\"#f0f921\"]]}],\"mesh3d\":[{\"type\":\"mesh3d\",\"colorbar\":{\"outlinewidth\":0,\"ticks\":\"\"}}],\"scatter\":[{\"fillpattern\":{\"fillmode\":\"overlay\",\"size\":10,\"solidity\":0.2},\"type\":\"scatter\"}],\"parcoords\":[{\"type\":\"parcoords\",\"line\":{\"colorbar\":{\"outlinewidth\":0,\"ticks\":\"\"}}}],\"scatterpolargl\":[{\"type\":\"scatterpolargl\",\"marker\":{\"colorbar\":{\"outlinewidth\":0,\"ticks\":\"\"}}}],\"bar\":[{\"error_x\":{\"color\":\"#2a3f5f\"},\"error_y\":{\"color\":\"#2a3f5f\"},\"marker\":{\"line\":{\"color\":\"#E5ECF6\",\"width\":0.5},\"pattern\":{\"fillmode\":\"overlay\",\"size\":10,\"solidity\":0.2}},\"type\":\"bar\"}],\"scattergeo\":[{\"type\":\"scattergeo\",\"marker\":{\"colorbar\":{\"outlinewidth\":0,\"ticks\":\"\"}}}],\"scatterpolar\":[{\"type\":\"scatterpolar\",\"marker\":{\"colorbar\":{\"outlinewidth\":0,\"ticks\":\"\"}}}],\"histogram\":[{\"marker\":{\"pattern\":{\"fillmode\":\"overlay\",\"size\":10,\"solidity\":0.2}},\"type\":\"histogram\"}],\"scattergl\":[{\"type\":\"scattergl\",\"marker\":{\"colorbar\":{\"outlinewidth\":0,\"ticks\":\"\"}}}],\"scatter3d\":[{\"type\":\"scatter3d\",\"line\":{\"colorbar\":{\"outlinewidth\":0,\"ticks\":\"\"}},\"marker\":{\"colorbar\":{\"outlinewidth\":0,\"ticks\":\"\"}}}],\"scattermapbox\":[{\"type\":\"scattermapbox\",\"marker\":{\"colorbar\":{\"outlinewidth\":0,\"ticks\":\"\"}}}],\"scatterternary\":[{\"type\":\"scatterternary\",\"marker\":{\"colorbar\":{\"outlinewidth\":0,\"ticks\":\"\"}}}],\"scattercarpet\":[{\"type\":\"scattercarpet\",\"marker\":{\"colorbar\":{\"outlinewidth\":0,\"ticks\":\"\"}}}],\"carpet\":[{\"aaxis\":{\"endlinecolor\":\"#2a3f5f\",\"gridcolor\":\"white\",\"linecolor\":\"white\",\"minorgridcolor\":\"white\",\"startlinecolor\":\"#2a3f5f\"},\"baxis\":{\"endlinecolor\":\"#2a3f5f\",\"gridcolor\":\"white\",\"linecolor\":\"white\",\"minorgridcolor\":\"white\",\"startlinecolor\":\"#2a3f5f\"},\"type\":\"carpet\"}],\"table\":[{\"cells\":{\"fill\":{\"color\":\"#EBF0F8\"},\"line\":{\"color\":\"white\"}},\"header\":{\"fill\":{\"color\":\"#C8D4E3\"},\"line\":{\"color\":\"white\"}},\"type\":\"table\"}],\"barpolar\":[{\"marker\":{\"line\":{\"color\":\"#E5ECF6\",\"width\":0.5},\"pattern\":{\"fillmode\":\"overlay\",\"size\":10,\"solidity\":0.2}},\"type\":\"barpolar\"}],\"pie\":[{\"automargin\":true,\"type\":\"pie\"}]},\"layout\":{\"autotypenumbers\":\"strict\",\"colorway\":[\"#636efa\",\"#EF553B\",\"#00cc96\",\"#ab63fa\",\"#FFA15A\",\"#19d3f3\",\"#FF6692\",\"#B6E880\",\"#FF97FF\",\"#FECB52\"],\"font\":{\"color\":\"#2a3f5f\"},\"hovermode\":\"closest\",\"hoverlabel\":{\"align\":\"left\"},\"paper_bgcolor\":\"white\",\"plot_bgcolor\":\"#E5ECF6\",\"polar\":{\"bgcolor\":\"#E5ECF6\",\"angularaxis\":{\"gridcolor\":\"white\",\"linecolor\":\"white\",\"ticks\":\"\"},\"radialaxis\":{\"gridcolor\":\"white\",\"linecolor\":\"white\",\"ticks\":\"\"}},\"ternary\":{\"bgcolor\":\"#E5ECF6\",\"aaxis\":{\"gridcolor\":\"white\",\"linecolor\":\"white\",\"ticks\":\"\"},\"baxis\":{\"gridcolor\":\"white\",\"linecolor\":\"white\",\"ticks\":\"\"},\"caxis\":{\"gridcolor\":\"white\",\"linecolor\":\"white\",\"ticks\":\"\"}},\"coloraxis\":{\"colorbar\":{\"outlinewidth\":0,\"ticks\":\"\"}},\"colorscale\":{\"sequential\":[[0.0,\"#0d0887\"],[0.1111111111111111,\"#46039f\"],[0.2222222222222222,\"#7201a8\"],[0.3333333333333333,\"#9c179e\"],[0.4444444444444444,\"#bd3786\"],[0.5555555555555556,\"#d8576b\"],[0.6666666666666666,\"#ed7953\"],[0.7777777777777778,\"#fb9f3a\"],[0.8888888888888888,\"#fdca26\"],[1.0,\"#f0f921\"]],\"sequentialminus\":[[0.0,\"#0d0887\"],[0.1111111111111111,\"#46039f\"],[0.2222222222222222,\"#7201a8\"],[0.3333333333333333,\"#9c179e\"],[0.4444444444444444,\"#bd3786\"],[0.5555555555555556,\"#d8576b\"],[0.6666666666666666,\"#ed7953\"],[0.7777777777777778,\"#fb9f3a\"],[0.8888888888888888,\"#fdca26\"],[1.0,\"#f0f921\"]],\"diverging\":[[0,\"#8e0152\"],[0.1,\"#c51b7d\"],[0.2,\"#de77ae\"],[0.3,\"#f1b6da\"],[0.4,\"#fde0ef\"],[0.5,\"#f7f7f7\"],[0.6,\"#e6f5d0\"],[0.7,\"#b8e186\"],[0.8,\"#7fbc41\"],[0.9,\"#4d9221\"],[1,\"#276419\"]]},\"xaxis\":{\"gridcolor\":\"white\",\"linecolor\":\"white\",\"ticks\":\"\",\"title\":{\"standoff\":15},\"zerolinecolor\":\"white\",\"automargin\":true,\"zerolinewidth\":2},\"yaxis\":{\"gridcolor\":\"white\",\"linecolor\":\"white\",\"ticks\":\"\",\"title\":{\"standoff\":15},\"zerolinecolor\":\"white\",\"automargin\":true,\"zerolinewidth\":2},\"scene\":{\"xaxis\":{\"backgroundcolor\":\"#E5ECF6\",\"gridcolor\":\"white\",\"linecolor\":\"white\",\"showbackground\":true,\"ticks\":\"\",\"zerolinecolor\":\"white\",\"gridwidth\":2},\"yaxis\":{\"backgroundcolor\":\"#E5ECF6\",\"gridcolor\":\"white\",\"linecolor\":\"white\",\"showbackground\":true,\"ticks\":\"\",\"zerolinecolor\":\"white\",\"gridwidth\":2},\"zaxis\":{\"backgroundcolor\":\"#E5ECF6\",\"gridcolor\":\"white\",\"linecolor\":\"white\",\"showbackground\":true,\"ticks\":\"\",\"zerolinecolor\":\"white\",\"gridwidth\":2}},\"shapedefaults\":{\"line\":{\"color\":\"#2a3f5f\"}},\"annotationdefaults\":{\"arrowcolor\":\"#2a3f5f\",\"arrowhead\":0,\"arrowwidth\":1},\"geo\":{\"bgcolor\":\"white\",\"landcolor\":\"#E5ECF6\",\"subunitcolor\":\"white\",\"showland\":true,\"showlakes\":true,\"lakecolor\":\"white\"},\"title\":{\"x\":0.05},\"mapbox\":{\"style\":\"light\"}}},\"updatemenus\":[{\"buttons\":[{\"args\":[null,{\"frame\":{\"duration\":800,\"redraw\":false},\"fromcurrent\":true,\"transition\":{\"duration\":800,\"easing\":\"quadratic-in-out\"}}],\"label\":\"Play\",\"method\":\"animate\"},{\"args\":[[null],{\"frame\":{\"duration\":0,\"redraw\":false},\"mode\":\"immediate\",\"transition\":{\"duration\":0}}],\"label\":\"Pause\",\"method\":\"animate\"}],\"direction\":\"left\",\"pad\":{\"r\":10,\"t\":87},\"showactive\":true,\"type\":\"buttons\",\"x\":0.1,\"xanchor\":\"right\",\"y\":0,\"yanchor\":\"top\"}],\"sliders\":[{\"active\":0,\"currentvalue\":{\"font\":{\"size\":20},\"prefix\":\"Date: \",\"visible\":true,\"xanchor\":\"right\"},\"len\":0.9,\"pad\":{\"b\":10,\"t\":50},\"steps\":[{\"args\":[[\"1-Apr-23\"],{\"frame\":{\"duration\":800,\"redraw\":false},\"mode\":\"immediate\",\"transition\":{\"duration\":800}}],\"label\":\"1-Apr-23\",\"method\":\"animate\"},{\"args\":[[\"1-Jul-23\"],{\"frame\":{\"duration\":800,\"redraw\":false},\"mode\":\"immediate\",\"transition\":{\"duration\":800}}],\"label\":\"1-Jul-23\",\"method\":\"animate\"},{\"args\":[[\"10-Jun-23\"],{\"frame\":{\"duration\":800,\"redraw\":false},\"mode\":\"immediate\",\"transition\":{\"duration\":800}}],\"label\":\"10-Jun-23\",\"method\":\"animate\"},{\"args\":[[\"12-May-23\"],{\"frame\":{\"duration\":800,\"redraw\":false},\"mode\":\"immediate\",\"transition\":{\"duration\":800}}],\"label\":\"12-May-23\",\"method\":\"animate\"},{\"args\":[[\"13-Apr-23\"],{\"frame\":{\"duration\":800,\"redraw\":false},\"mode\":\"immediate\",\"transition\":{\"duration\":800}}],\"label\":\"13-Apr-23\",\"method\":\"animate\"},{\"args\":[[\"13-May-23\"],{\"frame\":{\"duration\":800,\"redraw\":false},\"mode\":\"immediate\",\"transition\":{\"duration\":800}}],\"label\":\"13-May-23\",\"method\":\"animate\"},{\"args\":[[\"14-Apr-23\"],{\"frame\":{\"duration\":800,\"redraw\":false},\"mode\":\"immediate\",\"transition\":{\"duration\":800}}],\"label\":\"14-Apr-23\",\"method\":\"animate\"},{\"args\":[[\"14-Jul-23\"],{\"frame\":{\"duration\":800,\"redraw\":false},\"mode\":\"immediate\",\"transition\":{\"duration\":800}}],\"label\":\"14-Jul-23\",\"method\":\"animate\"},{\"args\":[[\"14-May-23\"],{\"frame\":{\"duration\":800,\"redraw\":false},\"mode\":\"immediate\",\"transition\":{\"duration\":800}}],\"label\":\"14-May-23\",\"method\":\"animate\"},{\"args\":[[\"15-Apr-23\"],{\"frame\":{\"duration\":800,\"redraw\":false},\"mode\":\"immediate\",\"transition\":{\"duration\":800}}],\"label\":\"15-Apr-23\",\"method\":\"animate\"},{\"args\":[[\"15-Jul-23\"],{\"frame\":{\"duration\":800,\"redraw\":false},\"mode\":\"immediate\",\"transition\":{\"duration\":800}}],\"label\":\"15-Jul-23\",\"method\":\"animate\"},{\"args\":[[\"16-Jun-23\"],{\"frame\":{\"duration\":800,\"redraw\":false},\"mode\":\"immediate\",\"transition\":{\"duration\":800}}],\"label\":\"16-Jun-23\",\"method\":\"animate\"},{\"args\":[[\"17-Jun-23\"],{\"frame\":{\"duration\":800,\"redraw\":false},\"mode\":\"immediate\",\"transition\":{\"duration\":800}}],\"label\":\"17-Jun-23\",\"method\":\"animate\"},{\"args\":[[\"17-Mar-23\"],{\"frame\":{\"duration\":800,\"redraw\":false},\"mode\":\"immediate\",\"transition\":{\"duration\":800}}],\"label\":\"17-Mar-23\",\"method\":\"animate\"},{\"args\":[[\"19-May-23\"],{\"frame\":{\"duration\":800,\"redraw\":false},\"mode\":\"immediate\",\"transition\":{\"duration\":800}}],\"label\":\"19-May-23\",\"method\":\"animate\"},{\"args\":[[\"2-Apr-23\"],{\"frame\":{\"duration\":800,\"redraw\":false},\"mode\":\"immediate\",\"transition\":{\"duration\":800}}],\"label\":\"2-Apr-23\",\"method\":\"animate\"},{\"args\":[[\"2-Jun-23\"],{\"frame\":{\"duration\":800,\"redraw\":false},\"mode\":\"immediate\",\"transition\":{\"duration\":800}}],\"label\":\"2-Jun-23\",\"method\":\"animate\"},{\"args\":[[\"20-May-23\"],{\"frame\":{\"duration\":800,\"redraw\":false},\"mode\":\"immediate\",\"transition\":{\"duration\":800}}],\"label\":\"20-May-23\",\"method\":\"animate\"},{\"args\":[[\"21-Apr-23\"],{\"frame\":{\"duration\":800,\"redraw\":false},\"mode\":\"immediate\",\"transition\":{\"duration\":800}}],\"label\":\"21-Apr-23\",\"method\":\"animate\"},{\"args\":[[\"21-May-23\"],{\"frame\":{\"duration\":800,\"redraw\":false},\"mode\":\"immediate\",\"transition\":{\"duration\":800}}],\"label\":\"21-May-23\",\"method\":\"animate\"},{\"args\":[[\"22-Apr-23\"],{\"frame\":{\"duration\":800,\"redraw\":false},\"mode\":\"immediate\",\"transition\":{\"duration\":800}}],\"label\":\"22-Apr-23\",\"method\":\"animate\"},{\"args\":[[\"22-Jul-23\"],{\"frame\":{\"duration\":800,\"redraw\":false},\"mode\":\"immediate\",\"transition\":{\"duration\":800}}],\"label\":\"22-Jul-23\",\"method\":\"animate\"},{\"args\":[[\"23-Apr-23\"],{\"frame\":{\"duration\":800,\"redraw\":false},\"mode\":\"immediate\",\"transition\":{\"duration\":800}}],\"label\":\"23-Apr-23\",\"method\":\"animate\"},{\"args\":[[\"23-Jul-23\"],{\"frame\":{\"duration\":800,\"redraw\":false},\"mode\":\"immediate\",\"transition\":{\"duration\":800}}],\"label\":\"23-Jul-23\",\"method\":\"animate\"},{\"args\":[[\"23-Jun-23\"],{\"frame\":{\"duration\":800,\"redraw\":false},\"mode\":\"immediate\",\"transition\":{\"duration\":800}}],\"label\":\"23-Jun-23\",\"method\":\"animate\"},{\"args\":[[\"24-Jun-23\"],{\"frame\":{\"duration\":800,\"redraw\":false},\"mode\":\"immediate\",\"transition\":{\"duration\":800}}],\"label\":\"24-Jun-23\",\"method\":\"animate\"},{\"args\":[[\"24-Mar-23\"],{\"frame\":{\"duration\":800,\"redraw\":false},\"mode\":\"immediate\",\"transition\":{\"duration\":800}}],\"label\":\"24-Mar-23\",\"method\":\"animate\"},{\"args\":[[\"25-Mar-23\"],{\"frame\":{\"duration\":800,\"redraw\":false},\"mode\":\"immediate\",\"transition\":{\"duration\":800}}],\"label\":\"25-Mar-23\",\"method\":\"animate\"},{\"args\":[[\"26-May-23\"],{\"frame\":{\"duration\":800,\"redraw\":false},\"mode\":\"immediate\",\"transition\":{\"duration\":800}}],\"label\":\"26-May-23\",\"method\":\"animate\"},{\"args\":[[\"27-May-23\"],{\"frame\":{\"duration\":800,\"redraw\":false},\"mode\":\"immediate\",\"transition\":{\"duration\":800}}],\"label\":\"27-May-23\",\"method\":\"animate\"},{\"args\":[[\"28-Apr-23\"],{\"frame\":{\"duration\":800,\"redraw\":false},\"mode\":\"immediate\",\"transition\":{\"duration\":800}}],\"label\":\"28-Apr-23\",\"method\":\"animate\"},{\"args\":[[\"28-Jul-23\"],{\"frame\":{\"duration\":800,\"redraw\":false},\"mode\":\"immediate\",\"transition\":{\"duration\":800}}],\"label\":\"28-Jul-23\",\"method\":\"animate\"},{\"args\":[[\"28-May-23\"],{\"frame\":{\"duration\":800,\"redraw\":false},\"mode\":\"immediate\",\"transition\":{\"duration\":800}}],\"label\":\"28-May-23\",\"method\":\"animate\"},{\"args\":[[\"29-Apr-23\"],{\"frame\":{\"duration\":800,\"redraw\":false},\"mode\":\"immediate\",\"transition\":{\"duration\":800}}],\"label\":\"29-Apr-23\",\"method\":\"animate\"},{\"args\":[[\"29-Jul-23\"],{\"frame\":{\"duration\":800,\"redraw\":false},\"mode\":\"immediate\",\"transition\":{\"duration\":800}}],\"label\":\"29-Jul-23\",\"method\":\"animate\"},{\"args\":[[\"3-Aug-23\"],{\"frame\":{\"duration\":800,\"redraw\":false},\"mode\":\"immediate\",\"transition\":{\"duration\":800}}],\"label\":\"3-Aug-23\",\"method\":\"animate\"},{\"args\":[[\"3-Jun-23\"],{\"frame\":{\"duration\":800,\"redraw\":false},\"mode\":\"immediate\",\"transition\":{\"duration\":800}}],\"label\":\"3-Jun-23\",\"method\":\"animate\"},{\"args\":[[\"30-Apr-23\"],{\"frame\":{\"duration\":800,\"redraw\":false},\"mode\":\"immediate\",\"transition\":{\"duration\":800}}],\"label\":\"30-Apr-23\",\"method\":\"animate\"},{\"args\":[[\"30-Jun-23\"],{\"frame\":{\"duration\":800,\"redraw\":false},\"mode\":\"immediate\",\"transition\":{\"duration\":800}}],\"label\":\"30-Jun-23\",\"method\":\"animate\"},{\"args\":[[\"31-Mar-23\"],{\"frame\":{\"duration\":800,\"redraw\":false},\"mode\":\"immediate\",\"transition\":{\"duration\":800}}],\"label\":\"31-Mar-23\",\"method\":\"animate\"},{\"args\":[[\"4-Aug-23\"],{\"frame\":{\"duration\":800,\"redraw\":false},\"mode\":\"immediate\",\"transition\":{\"duration\":800}}],\"label\":\"4-Aug-23\",\"method\":\"animate\"},{\"args\":[[\"4-Jun-23\"],{\"frame\":{\"duration\":800,\"redraw\":false},\"mode\":\"immediate\",\"transition\":{\"duration\":800}}],\"label\":\"4-Jun-23\",\"method\":\"animate\"},{\"args\":[[\"5-Aug-23\"],{\"frame\":{\"duration\":800,\"redraw\":false},\"mode\":\"immediate\",\"transition\":{\"duration\":800}}],\"label\":\"5-Aug-23\",\"method\":\"animate\"},{\"args\":[[\"5-May-23\"],{\"frame\":{\"duration\":800,\"redraw\":false},\"mode\":\"immediate\",\"transition\":{\"duration\":800}}],\"label\":\"5-May-23\",\"method\":\"animate\"},{\"args\":[[\"6-May-23\"],{\"frame\":{\"duration\":800,\"redraw\":false},\"mode\":\"immediate\",\"transition\":{\"duration\":800}}],\"label\":\"6-May-23\",\"method\":\"animate\"},{\"args\":[[\"7-Aug-23\"],{\"frame\":{\"duration\":800,\"redraw\":false},\"mode\":\"immediate\",\"transition\":{\"duration\":800}}],\"label\":\"7-Aug-23\",\"method\":\"animate\"},{\"args\":[[\"7-Jul-23\"],{\"frame\":{\"duration\":800,\"redraw\":false},\"mode\":\"immediate\",\"transition\":{\"duration\":800}}],\"label\":\"7-Jul-23\",\"method\":\"animate\"},{\"args\":[[\"7-May-23\"],{\"frame\":{\"duration\":800,\"redraw\":false},\"mode\":\"immediate\",\"transition\":{\"duration\":800}}],\"label\":\"7-May-23\",\"method\":\"animate\"},{\"args\":[[\"8-Aug-23\"],{\"frame\":{\"duration\":800,\"redraw\":false},\"mode\":\"immediate\",\"transition\":{\"duration\":800}}],\"label\":\"8-Aug-23\",\"method\":\"animate\"},{\"args\":[[\"8-Jul-23\"],{\"frame\":{\"duration\":800,\"redraw\":false},\"mode\":\"immediate\",\"transition\":{\"duration\":800}}],\"label\":\"8-Jul-23\",\"method\":\"animate\"},{\"args\":[[\"9-Aug-23\"],{\"frame\":{\"duration\":800,\"redraw\":false},\"mode\":\"immediate\",\"transition\":{\"duration\":800}}],\"label\":\"9-Aug-23\",\"method\":\"animate\"},{\"args\":[[\"9-Jun-23\"],{\"frame\":{\"duration\":800,\"redraw\":false},\"mode\":\"immediate\",\"transition\":{\"duration\":800}}],\"label\":\"9-Jun-23\",\"method\":\"animate\"}],\"transition\":{\"duration\":300,\"easing\":\"cubic-in-out\"},\"x\":0.1,\"xanchor\":\"left\",\"y\":0,\"yanchor\":\"top\"}]},                        {\"responsive\": true}                    ).then(function(){\n",
       "                            Plotly.addFrames('c6e1c55e-e256-4ef7-9ea4-62d2f2a9c081', [{\"data\":[{\"cliponaxis\":false,\"hoverinfo\":\"all\",\"hovertemplate\":\"<extra></extra>\",\"marker\":{\"color\":[\"rgb(171, 111, 146)\",\"rgb(93, 75, 201)\"]},\"orientation\":\"h\",\"textangle\":0,\"textposition\":\"outside\",\"texttemplate\":\"%{y}<br>%{x:.4s}\",\"x\":[2,4],\"y\":[\"Lover\",\"1989\"],\"type\":\"bar\"}],\"layout\":{\"bargap\":0.15,\"font\":{\"size\":14},\"plot_bgcolor\":\"#FFFFFF\",\"title\":{\"text\":\"Top Albums Used for Surprise Songs (US Leg)\"},\"xaxis\":{\"range\":[0,6],\"showline\":true,\"visible\":true},\"yaxis\":{\"showline\":false,\"visible\":true}},\"name\":\"1-Apr-23\"},{\"data\":[{\"cliponaxis\":false,\"hoverinfo\":\"all\",\"hovertemplate\":\"<extra></extra>\",\"marker\":{\"color\":[\"rgb(122, 45, 20)\",\"rgb(46, 26, 159)\"]},\"orientation\":\"h\",\"textangle\":0,\"textposition\":\"outside\",\"texttemplate\":\"%{y}<br>%{x:.4s}\",\"x\":[4,5],\"y\":[\"evermore\",\"Reputation\"],\"type\":\"bar\"}],\"layout\":{\"bargap\":0.15,\"font\":{\"size\":14},\"plot_bgcolor\":\"#FFFFFF\",\"title\":{\"text\":\"Top Albums Used for Surprise Songs (US Leg)\"},\"xaxis\":{\"range\":[0,6],\"showline\":true,\"visible\":true},\"yaxis\":{\"showline\":false,\"visible\":true}},\"name\":\"1-Jul-23\"},{\"data\":[{\"cliponaxis\":false,\"hoverinfo\":\"all\",\"hovertemplate\":\"<extra></extra>\",\"marker\":{\"color\":[\"rgb(93, 75, 201)\",\"rgb(83, 93, 192)\"]},\"orientation\":\"h\",\"textangle\":0,\"textposition\":\"outside\",\"texttemplate\":\"%{y}<br>%{x:.4s}\",\"x\":[3,5],\"y\":[\"1989\",\"Fearless\"],\"type\":\"bar\"}],\"layout\":{\"bargap\":0.15,\"font\":{\"size\":14},\"plot_bgcolor\":\"#FFFFFF\",\"title\":{\"text\":\"Top Albums Used for Surprise Songs (US Leg)\"},\"xaxis\":{\"range\":[0,6],\"showline\":true,\"visible\":true},\"yaxis\":{\"showline\":false,\"visible\":true}},\"name\":\"10-Jun-23\"},{\"data\":[{\"cliponaxis\":false,\"hoverinfo\":\"all\",\"hovertemplate\":\"<extra></extra>\",\"marker\":{\"color\":[\"rgb(122, 45, 20)\",\"rgb(7, 58, 32)\"]},\"orientation\":\"h\",\"textangle\":0,\"textposition\":\"outside\",\"texttemplate\":\"%{y}<br>%{x:.4s}\",\"x\":[3,4],\"y\":[\"evermore\",\"Red\"],\"type\":\"bar\"}],\"layout\":{\"bargap\":0.15,\"font\":{\"size\":14},\"plot_bgcolor\":\"#FFFFFF\",\"title\":{\"text\":\"Top Albums Used for Surprise Songs (US Leg)\"},\"xaxis\":{\"range\":[0,6],\"showline\":true,\"visible\":true},\"yaxis\":{\"showline\":false,\"visible\":true}},\"name\":\"12-May-23\"},{\"data\":[{\"cliponaxis\":false,\"hoverinfo\":\"all\",\"hovertemplate\":\"<extra></extra>\",\"marker\":{\"color\":[\"rgb(212, 208, 87)\",\"rgb(7, 58, 32)\"]},\"orientation\":\"h\",\"textangle\":0,\"textposition\":\"outside\",\"texttemplate\":\"%{y}<br>%{x:.4s}\",\"x\":[2,4],\"y\":[\"Speak Now\",\"Red\"],\"type\":\"bar\"}],\"layout\":{\"bargap\":0.15,\"font\":{\"size\":14},\"plot_bgcolor\":\"#FFFFFF\",\"title\":{\"text\":\"Top Albums Used for Surprise Songs (US Leg)\"},\"xaxis\":{\"range\":[0,6],\"showline\":true,\"visible\":true},\"yaxis\":{\"showline\":false,\"visible\":true}},\"name\":\"13-Apr-23\"},{\"data\":[{\"cliponaxis\":false,\"hoverinfo\":\"all\",\"hovertemplate\":\"<extra></extra>\",\"marker\":{\"color\":[\"rgb(83, 93, 192)\",\"rgb(93, 75, 201)\"]},\"orientation\":\"h\",\"textangle\":0,\"textposition\":\"outside\",\"texttemplate\":\"%{y}<br>%{x:.4s}\",\"x\":[3,4],\"y\":[\"Fearless\",\"1989\"],\"type\":\"bar\"}],\"layout\":{\"bargap\":0.15,\"font\":{\"size\":14},\"plot_bgcolor\":\"#FFFFFF\",\"title\":{\"text\":\"Top Albums Used for Surprise Songs (US Leg)\"},\"xaxis\":{\"range\":[0,6],\"showline\":true,\"visible\":true},\"yaxis\":{\"showline\":false,\"visible\":true}},\"name\":\"13-May-23\"},{\"data\":[{\"cliponaxis\":false,\"hoverinfo\":\"all\",\"hovertemplate\":\"<extra></extra>\",\"marker\":{\"color\":[\"rgb(144, 87, 131)\",\"rgb(144, 87, 131)\"]},\"orientation\":\"h\",\"textangle\":0,\"textposition\":\"outside\",\"texttemplate\":\"%{y}<br>%{x:.4s}\",\"x\":[2,4],\"y\":[\"Midnights\",\"Midnights\"],\"type\":\"bar\"}],\"layout\":{\"bargap\":0.15,\"font\":{\"size\":14},\"plot_bgcolor\":\"#FFFFFF\",\"title\":{\"text\":\"Top Albums Used for Surprise Songs (US Leg)\"},\"xaxis\":{\"range\":[0,6],\"showline\":true,\"visible\":true},\"yaxis\":{\"showline\":false,\"visible\":true}},\"name\":\"14-Apr-23\"},{\"data\":[{\"cliponaxis\":false,\"hoverinfo\":\"all\",\"hovertemplate\":\"<extra></extra>\",\"marker\":{\"color\":[\"rgb(236, 99, 109)\",\"rgb(212, 208, 87)\"]},\"orientation\":\"h\",\"textangle\":0,\"textposition\":\"outside\",\"texttemplate\":\"%{y}<br>%{x:.4s}\",\"x\":[4,5],\"y\":[\"Debut (Taylor Swift)\",\"Speak Now\"],\"type\":\"bar\"}],\"layout\":{\"bargap\":0.15,\"font\":{\"size\":14},\"plot_bgcolor\":\"#FFFFFF\",\"title\":{\"text\":\"Top Albums Used for Surprise Songs (US Leg)\"},\"xaxis\":{\"range\":[0,6],\"showline\":true,\"visible\":true},\"yaxis\":{\"showline\":false,\"visible\":true}},\"name\":\"14-Jul-23\"},{\"data\":[{\"cliponaxis\":false,\"hoverinfo\":\"all\",\"hovertemplate\":\"<extra></extra>\",\"marker\":{\"color\":[\"rgb(83, 93, 192)\",\"rgb(83, 93, 192)\"]},\"orientation\":\"h\",\"textangle\":0,\"textposition\":\"outside\",\"texttemplate\":\"%{y}<br>%{x:.4s}\",\"x\":[3,4],\"y\":[\"Fearless\",\"Fearless\"],\"type\":\"bar\"}],\"layout\":{\"bargap\":0.15,\"font\":{\"size\":14},\"plot_bgcolor\":\"#FFFFFF\",\"title\":{\"text\":\"Top Albums Used for Surprise Songs (US Leg)\"},\"xaxis\":{\"range\":[0,6],\"showline\":true,\"visible\":true},\"yaxis\":{\"showline\":false,\"visible\":true}},\"name\":\"14-May-23\"},{\"data\":[{\"cliponaxis\":false,\"hoverinfo\":\"all\",\"hovertemplate\":\"<extra></extra>\",\"marker\":{\"color\":[\"rgb(142, 65, 234)\",\"rgb(212, 208, 87)\"]},\"orientation\":\"h\",\"textangle\":0,\"textposition\":\"outside\",\"texttemplate\":\"%{y}<br>%{x:.4s}\",\"x\":[3,4],\"y\":[\"folklore\",\"Speak Now\"],\"type\":\"bar\"}],\"layout\":{\"bargap\":0.15,\"font\":{\"size\":14},\"plot_bgcolor\":\"#FFFFFF\",\"title\":{\"text\":\"Top Albums Used for Surprise Songs (US Leg)\"},\"xaxis\":{\"range\":[0,6],\"showline\":true,\"visible\":true},\"yaxis\":{\"showline\":false,\"visible\":true}},\"name\":\"15-Apr-23\"},{\"data\":[{\"cliponaxis\":false,\"hoverinfo\":\"all\",\"hovertemplate\":\"<extra></extra>\",\"marker\":{\"color\":[\"rgb(7, 58, 32)\",\"rgb(212, 208, 87)\"]},\"orientation\":\"h\",\"textangle\":0,\"textposition\":\"outside\",\"texttemplate\":\"%{y}<br>%{x:.4s}\",\"x\":[4,5],\"y\":[\"Red\",\"Speak Now\"],\"type\":\"bar\"}],\"layout\":{\"bargap\":0.15,\"font\":{\"size\":14},\"plot_bgcolor\":\"#FFFFFF\",\"title\":{\"text\":\"Top Albums Used for Surprise Songs (US Leg)\"},\"xaxis\":{\"range\":[0,6],\"showline\":true,\"visible\":true},\"yaxis\":{\"showline\":false,\"visible\":true}},\"name\":\"15-Jul-23\"},{\"data\":[{\"cliponaxis\":false,\"hoverinfo\":\"all\",\"hovertemplate\":\"<extra></extra>\",\"marker\":{\"color\":[\"rgb(83, 93, 192)\",\"rgb(7, 58, 32)\"]},\"orientation\":\"h\",\"textangle\":0,\"textposition\":\"outside\",\"texttemplate\":\"%{y}<br>%{x:.4s}\",\"x\":[3,5],\"y\":[\"Fearless\",\"Red\"],\"type\":\"bar\"}],\"layout\":{\"bargap\":0.15,\"font\":{\"size\":14},\"plot_bgcolor\":\"#FFFFFF\",\"title\":{\"text\":\"Top Albums Used for Surprise Songs (US Leg)\"},\"xaxis\":{\"range\":[0,6],\"showline\":true,\"visible\":true},\"yaxis\":{\"showline\":false,\"visible\":true}},\"name\":\"16-Jun-23\"},{\"data\":[{\"cliponaxis\":false,\"hoverinfo\":\"all\",\"hovertemplate\":\"<extra></extra>\",\"marker\":{\"color\":[\"rgb(142, 65, 234)\",\"rgb(212, 208, 87)\"]},\"orientation\":\"h\",\"textangle\":0,\"textposition\":\"outside\",\"texttemplate\":\"%{y}<br>%{x:.4s}\",\"x\":[4,5],\"y\":[\"folklore\",\"Speak Now\"],\"type\":\"bar\"}],\"layout\":{\"bargap\":0.15,\"font\":{\"size\":14},\"plot_bgcolor\":\"#FFFFFF\",\"title\":{\"text\":\"Top Albums Used for Surprise Songs (US Leg)\"},\"xaxis\":{\"range\":[0,6],\"showline\":true,\"visible\":true},\"yaxis\":{\"showline\":false,\"visible\":true}},\"name\":\"17-Jun-23\"},{\"data\":[{\"cliponaxis\":false,\"hoverinfo\":\"all\",\"hovertemplate\":\"<extra></extra>\",\"marker\":{\"color\":[\"rgb(142, 65, 234)\",\"rgb(142, 65, 234)\",\"rgb(236, 99, 109)\",\"rgb(7, 58, 32)\"]},\"orientation\":\"h\",\"textangle\":0,\"textposition\":\"outside\",\"texttemplate\":\"%{y}<br>%{x:.4s}\",\"x\":[1,2,4,4],\"y\":[\"folklore\",\"folklore\",\"Debut (Taylor Swift)\",\"Red\"],\"type\":\"bar\"}],\"layout\":{\"bargap\":0.15,\"font\":{\"size\":14},\"plot_bgcolor\":\"#FFFFFF\",\"title\":{\"text\":\"Top Albums Used for Surprise Songs (US Leg)\"},\"xaxis\":{\"range\":[0,6],\"showline\":true,\"visible\":true},\"yaxis\":{\"showline\":false,\"visible\":true}},\"name\":\"17-Mar-23\"},{\"data\":[{\"cliponaxis\":false,\"hoverinfo\":\"all\",\"hovertemplate\":\"<extra></extra>\",\"marker\":{\"color\":[\"rgb(236, 99, 109)\",\"rgb(7, 58, 32)\"]},\"orientation\":\"h\",\"textangle\":0,\"textposition\":\"outside\",\"texttemplate\":\"%{y}<br>%{x:.4s}\",\"x\":[3,4],\"y\":[\"Debut (Taylor Swift)\",\"Red\"],\"type\":\"bar\"}],\"layout\":{\"bargap\":0.15,\"font\":{\"size\":14},\"plot_bgcolor\":\"#FFFFFF\",\"title\":{\"text\":\"Top Albums Used for Surprise Songs (US Leg)\"},\"xaxis\":{\"range\":[0,6],\"showline\":true,\"visible\":true},\"yaxis\":{\"showline\":false,\"visible\":true}},\"name\":\"19-May-23\"},{\"data\":[{\"cliponaxis\":false,\"hoverinfo\":\"all\",\"hovertemplate\":\"<extra></extra>\",\"marker\":{\"color\":[\"rgb(83, 93, 192)\",\"rgb(7, 58, 32)\"]},\"orientation\":\"h\",\"textangle\":0,\"textposition\":\"outside\",\"texttemplate\":\"%{y}<br>%{x:.4s}\",\"x\":[2,4],\"y\":[\"Fearless\",\"Red\"],\"type\":\"bar\"}],\"layout\":{\"bargap\":0.15,\"font\":{\"size\":14},\"plot_bgcolor\":\"#FFFFFF\",\"title\":{\"text\":\"Top Albums Used for Surprise Songs (US Leg)\"},\"xaxis\":{\"range\":[0,6],\"showline\":true,\"visible\":true},\"yaxis\":{\"showline\":false,\"visible\":true}},\"name\":\"2-Apr-23\"},{\"data\":[{\"cliponaxis\":false,\"hoverinfo\":\"all\",\"hovertemplate\":\"<extra></extra>\",\"marker\":{\"color\":[\"rgb(93, 75, 201)\",\"rgb(142, 65, 234)\"]},\"orientation\":\"h\",\"textangle\":0,\"textposition\":\"outside\",\"texttemplate\":\"%{y}<br>%{x:.4s}\",\"x\":[3,5],\"y\":[\"1989\",\"folklore\"],\"type\":\"bar\"}],\"layout\":{\"bargap\":0.15,\"font\":{\"size\":14},\"plot_bgcolor\":\"#FFFFFF\",\"title\":{\"text\":\"Top Albums Used for Surprise Songs (US Leg)\"},\"xaxis\":{\"range\":[0,6],\"showline\":true,\"visible\":true},\"yaxis\":{\"showline\":false,\"visible\":true}},\"name\":\"2-Jun-23\"},{\"data\":[{\"cliponaxis\":false,\"hoverinfo\":\"all\",\"hovertemplate\":\"<extra></extra>\",\"marker\":{\"color\":[\"rgb(144, 87, 131)\",\"rgb(236, 99, 109)\"]},\"orientation\":\"h\",\"textangle\":0,\"textposition\":\"outside\",\"texttemplate\":\"%{y}<br>%{x:.4s}\",\"x\":[3,4],\"y\":[\"Midnights\",\"Debut (Taylor Swift)\"],\"type\":\"bar\"}],\"layout\":{\"bargap\":0.15,\"font\":{\"size\":14},\"plot_bgcolor\":\"#FFFFFF\",\"title\":{\"text\":\"Top Albums Used for Surprise Songs (US Leg)\"},\"xaxis\":{\"range\":[0,6],\"showline\":true,\"visible\":true},\"yaxis\":{\"showline\":false,\"visible\":true}},\"name\":\"20-May-23\"},{\"data\":[{\"cliponaxis\":false,\"hoverinfo\":\"all\",\"hovertemplate\":\"<extra></extra>\",\"marker\":{\"color\":[\"rgb(93, 75, 201)\",\"rgb(83, 93, 192)\"]},\"orientation\":\"h\",\"textangle\":0,\"textposition\":\"outside\",\"texttemplate\":\"%{y}<br>%{x:.4s}\",\"x\":[3,4],\"y\":[\"1989\",\"Fearless\"],\"type\":\"bar\"}],\"layout\":{\"bargap\":0.15,\"font\":{\"size\":14},\"plot_bgcolor\":\"#FFFFFF\",\"title\":{\"text\":\"Top Albums Used for Surprise Songs (US Leg)\"},\"xaxis\":{\"range\":[0,6],\"showline\":true,\"visible\":true},\"yaxis\":{\"showline\":false,\"visible\":true}},\"name\":\"21-Apr-23\"},{\"data\":[{\"cliponaxis\":false,\"hoverinfo\":\"all\",\"hovertemplate\":\"<extra></extra>\",\"marker\":{\"color\":[\"rgb(171, 111, 146)\",\"rgb(7, 58, 32)\"]},\"orientation\":\"h\",\"textangle\":0,\"textposition\":\"outside\",\"texttemplate\":\"%{y}<br>%{x:.4s}\",\"x\":[3,4],\"y\":[\"Lover\",\"Red\"],\"type\":\"bar\"}],\"layout\":{\"bargap\":0.15,\"font\":{\"size\":14},\"plot_bgcolor\":\"#FFFFFF\",\"title\":{\"text\":\"Top Albums Used for Surprise Songs (US Leg)\"},\"xaxis\":{\"range\":[0,6],\"showline\":true,\"visible\":true},\"yaxis\":{\"showline\":false,\"visible\":true}},\"name\":\"21-May-23\"},{\"data\":[{\"cliponaxis\":false,\"hoverinfo\":\"all\",\"hovertemplate\":\"<extra></extra>\",\"marker\":{\"color\":[\"rgb(236, 99, 109)\",\"rgb(83, 93, 192)\"]},\"orientation\":\"h\",\"textangle\":0,\"textposition\":\"outside\",\"texttemplate\":\"%{y}<br>%{x:.4s}\",\"x\":[3,4],\"y\":[\"Debut (Taylor Swift)\",\"Fearless\"],\"type\":\"bar\"}],\"layout\":{\"bargap\":0.15,\"font\":{\"size\":14},\"plot_bgcolor\":\"#FFFFFF\",\"title\":{\"text\":\"Top Albums Used for Surprise Songs (US Leg)\"},\"xaxis\":{\"range\":[0,6],\"showline\":true,\"visible\":true},\"yaxis\":{\"showline\":false,\"visible\":true}},\"name\":\"22-Apr-23\"},{\"data\":[{\"cliponaxis\":false,\"hoverinfo\":\"all\",\"hovertemplate\":\"<extra></extra>\",\"marker\":{\"color\":[\"rgb(46, 26, 159)\",\"rgb(7, 58, 32)\"]},\"orientation\":\"h\",\"textangle\":0,\"textposition\":\"outside\",\"texttemplate\":\"%{y}<br>%{x:.4s}\",\"x\":[4,5],\"y\":[\"Reputation\",\"Red\"],\"type\":\"bar\"}],\"layout\":{\"bargap\":0.15,\"font\":{\"size\":14},\"plot_bgcolor\":\"#FFFFFF\",\"title\":{\"text\":\"Top Albums Used for Surprise Songs (US Leg)\"},\"xaxis\":{\"range\":[0,6],\"showline\":true,\"visible\":true},\"yaxis\":{\"showline\":false,\"visible\":true}},\"name\":\"22-Jul-23\"},{\"data\":[{\"cliponaxis\":false,\"hoverinfo\":\"all\",\"hovertemplate\":\"<extra></extra>\",\"marker\":{\"color\":[\"rgb(7, 58, 32)\",\"rgb(236, 99, 109)\"]},\"orientation\":\"h\",\"textangle\":0,\"textposition\":\"outside\",\"texttemplate\":\"%{y}<br>%{x:.4s}\",\"x\":[3,4],\"y\":[\"Red\",\"Debut (Taylor Swift)\"],\"type\":\"bar\"}],\"layout\":{\"bargap\":0.15,\"font\":{\"size\":14},\"plot_bgcolor\":\"#FFFFFF\",\"title\":{\"text\":\"Top Albums Used for Surprise Songs (US Leg)\"},\"xaxis\":{\"range\":[0,6],\"showline\":true,\"visible\":true},\"yaxis\":{\"showline\":false,\"visible\":true}},\"name\":\"23-Apr-23\"},{\"data\":[{\"cliponaxis\":false,\"hoverinfo\":\"all\",\"hovertemplate\":\"<extra></extra>\",\"marker\":{\"color\":[\"rgb(7, 58, 32)\",\"rgb(236, 99, 109)\"]},\"orientation\":\"h\",\"textangle\":0,\"textposition\":\"outside\",\"texttemplate\":\"%{y}<br>%{x:.4s}\",\"x\":[4,5],\"y\":[\"Red\",\"Debut (Taylor Swift)\"],\"type\":\"bar\"}],\"layout\":{\"bargap\":0.15,\"font\":{\"size\":14},\"plot_bgcolor\":\"#FFFFFF\",\"title\":{\"text\":\"Top Albums Used for Surprise Songs (US Leg)\"},\"xaxis\":{\"range\":[0,6],\"showline\":true,\"visible\":true},\"yaxis\":{\"showline\":false,\"visible\":true}},\"name\":\"23-Jul-23\"},{\"data\":[{\"cliponaxis\":false,\"hoverinfo\":\"all\",\"hovertemplate\":\"<extra></extra>\",\"marker\":{\"color\":[\"rgb(171, 111, 146)\",\"rgb(212, 208, 87)\"]},\"orientation\":\"h\",\"textangle\":0,\"textposition\":\"outside\",\"texttemplate\":\"%{y}<br>%{x:.4s}\",\"x\":[4,5],\"y\":[\"Lover\",\"Speak Now\"],\"type\":\"bar\"}],\"layout\":{\"bargap\":0.15,\"font\":{\"size\":14},\"plot_bgcolor\":\"#FFFFFF\",\"title\":{\"text\":\"Top Albums Used for Surprise Songs (US Leg)\"},\"xaxis\":{\"range\":[0,6],\"showline\":true,\"visible\":true},\"yaxis\":{\"showline\":false,\"visible\":true}},\"name\":\"23-Jun-23\"},{\"data\":[{\"cliponaxis\":false,\"hoverinfo\":\"all\",\"hovertemplate\":\"<extra></extra>\",\"marker\":{\"color\":[\"rgb(212, 208, 87)\",\"rgb(171, 111, 146)\"]},\"orientation\":\"h\",\"textangle\":0,\"textposition\":\"outside\",\"texttemplate\":\"%{y}<br>%{x:.4s}\",\"x\":[4,5],\"y\":[\"Speak Now\",\"Lover\"],\"type\":\"bar\"}],\"layout\":{\"bargap\":0.15,\"font\":{\"size\":14},\"plot_bgcolor\":\"#FFFFFF\",\"title\":{\"text\":\"Top Albums Used for Surprise Songs (US Leg)\"},\"xaxis\":{\"range\":[0,6],\"showline\":true,\"visible\":true},\"yaxis\":{\"showline\":false,\"visible\":true}},\"name\":\"24-Jun-23\"},{\"data\":[{\"cliponaxis\":false,\"hoverinfo\":\"all\",\"hovertemplate\":\"<extra></extra>\",\"marker\":{\"color\":[\"rgb(236, 99, 109)\",\"rgb(144, 87, 131)\"]},\"orientation\":\"h\",\"textangle\":0,\"textposition\":\"outside\",\"texttemplate\":\"%{y}<br>%{x:.4s}\",\"x\":[2,4],\"y\":[\"Debut (Taylor Swift)\",\"Midnights\"],\"type\":\"bar\"}],\"layout\":{\"bargap\":0.15,\"font\":{\"size\":14},\"plot_bgcolor\":\"#FFFFFF\",\"title\":{\"text\":\"Top Albums Used for Surprise Songs (US Leg)\"},\"xaxis\":{\"range\":[0,6],\"showline\":true,\"visible\":true},\"yaxis\":{\"showline\":false,\"visible\":true}},\"name\":\"24-Mar-23\"},{\"data\":[{\"cliponaxis\":false,\"hoverinfo\":\"all\",\"hovertemplate\":\"<extra></extra>\",\"marker\":{\"color\":[\"rgb(122, 45, 20)\",\"rgb(83, 93, 192)\"]},\"orientation\":\"h\",\"textangle\":0,\"textposition\":\"outside\",\"texttemplate\":\"%{y}<br>%{x:.4s}\",\"x\":[2,4],\"y\":[\"evermore\",\"Fearless\"],\"type\":\"bar\"}],\"layout\":{\"bargap\":0.15,\"font\":{\"size\":14},\"plot_bgcolor\":\"#FFFFFF\",\"title\":{\"text\":\"Top Albums Used for Surprise Songs (US Leg)\"},\"xaxis\":{\"range\":[0,6],\"showline\":true,\"visible\":true},\"yaxis\":{\"showline\":false,\"visible\":true}},\"name\":\"25-Mar-23\"},{\"data\":[{\"cliponaxis\":false,\"hoverinfo\":\"all\",\"hovertemplate\":\"<extra></extra>\",\"marker\":{\"color\":[\"rgb(46, 26, 159)\",\"rgb(144, 87, 131)\"]},\"orientation\":\"h\",\"textangle\":0,\"textposition\":\"outside\",\"texttemplate\":\"%{y}<br>%{x:.4s}\",\"x\":[3,4],\"y\":[\"Reputation\",\"Midnights\"],\"type\":\"bar\"}],\"layout\":{\"bargap\":0.15,\"font\":{\"size\":14},\"plot_bgcolor\":\"#FFFFFF\",\"title\":{\"text\":\"Top Albums Used for Surprise Songs (US Leg)\"},\"xaxis\":{\"range\":[0,6],\"showline\":true,\"visible\":true},\"yaxis\":{\"showline\":false,\"visible\":true}},\"name\":\"26-May-23\"},{\"data\":[{\"cliponaxis\":false,\"hoverinfo\":\"all\",\"hovertemplate\":\"<extra></extra>\",\"marker\":{\"color\":[\"rgb(7, 58, 32)\",\"rgb(171, 111, 146)\"]},\"orientation\":\"h\",\"textangle\":0,\"textposition\":\"outside\",\"texttemplate\":\"%{y}<br>%{x:.4s}\",\"x\":[3,4],\"y\":[\"Red\",\"Lover\"],\"type\":\"bar\"}],\"layout\":{\"bargap\":0.15,\"font\":{\"size\":14},\"plot_bgcolor\":\"#FFFFFF\",\"title\":{\"text\":\"Top Albums Used for Surprise Songs (US Leg)\"},\"xaxis\":{\"range\":[0,6],\"showline\":true,\"visible\":true},\"yaxis\":{\"showline\":false,\"visible\":true}},\"name\":\"27-May-23\"},{\"data\":[{\"cliponaxis\":false,\"hoverinfo\":\"all\",\"hovertemplate\":\"<extra></extra>\",\"marker\":{\"color\":[\"rgb(83, 93, 192)\",\"rgb(122, 45, 20)\"]},\"orientation\":\"h\",\"textangle\":0,\"textposition\":\"outside\",\"texttemplate\":\"%{y}<br>%{x:.4s}\",\"x\":[3,4],\"y\":[\"Fearless\",\"evermore\"],\"type\":\"bar\"}],\"layout\":{\"bargap\":0.15,\"font\":{\"size\":14},\"plot_bgcolor\":\"#FFFFFF\",\"title\":{\"text\":\"Top Albums Used for Surprise Songs (US Leg)\"},\"xaxis\":{\"range\":[0,6],\"showline\":true,\"visible\":true},\"yaxis\":{\"showline\":false,\"visible\":true}},\"name\":\"28-Apr-23\"},{\"data\":[{\"cliponaxis\":false,\"hoverinfo\":\"all\",\"hovertemplate\":\"<extra></extra>\",\"marker\":{\"color\":[\"rgb(122, 45, 20)\",\"rgb(212, 208, 87)\"]},\"orientation\":\"h\",\"textangle\":0,\"textposition\":\"outside\",\"texttemplate\":\"%{y}<br>%{x:.4s}\",\"x\":[4,5],\"y\":[\"evermore\",\"Speak Now\"],\"type\":\"bar\"}],\"layout\":{\"bargap\":0.15,\"font\":{\"size\":14},\"plot_bgcolor\":\"#FFFFFF\",\"title\":{\"text\":\"Top Albums Used for Surprise Songs (US Leg)\"},\"xaxis\":{\"range\":[0,6],\"showline\":true,\"visible\":true},\"yaxis\":{\"showline\":false,\"visible\":true}},\"name\":\"28-Jul-23\"},{\"data\":[{\"cliponaxis\":false,\"hoverinfo\":\"all\",\"hovertemplate\":\"<extra></extra>\",\"marker\":{\"color\":[\"rgb(93, 75, 201)\",\"rgb(93, 75, 201)\"]},\"orientation\":\"h\",\"textangle\":0,\"textposition\":\"outside\",\"texttemplate\":\"%{y}<br>%{x:.4s}\",\"x\":[3,4],\"y\":[\"1989\",\"1989\"],\"type\":\"bar\"}],\"layout\":{\"bargap\":0.15,\"font\":{\"size\":14},\"plot_bgcolor\":\"#FFFFFF\",\"title\":{\"text\":\"Top Albums Used for Surprise Songs (US Leg)\"},\"xaxis\":{\"range\":[0,6],\"showline\":true,\"visible\":true},\"yaxis\":{\"showline\":false,\"visible\":true}},\"name\":\"28-May-23\"},{\"data\":[{\"cliponaxis\":false,\"hoverinfo\":\"all\",\"hovertemplate\":\"<extra></extra>\",\"marker\":{\"color\":[\"rgb(144, 87, 131)\",\"rgb(46, 26, 159)\"]},\"orientation\":\"h\",\"textangle\":0,\"textposition\":\"outside\",\"texttemplate\":\"%{y}<br>%{x:.4s}\",\"x\":[3,4],\"y\":[\"Midnights\",\"Reputation\"],\"type\":\"bar\"}],\"layout\":{\"bargap\":0.15,\"font\":{\"size\":14},\"plot_bgcolor\":\"#FFFFFF\",\"title\":{\"text\":\"Top Albums Used for Surprise Songs (US Leg)\"},\"xaxis\":{\"range\":[0,6],\"showline\":true,\"visible\":true},\"yaxis\":{\"showline\":false,\"visible\":true}},\"name\":\"29-Apr-23\"},{\"data\":[{\"cliponaxis\":false,\"hoverinfo\":\"all\",\"hovertemplate\":\"<extra></extra>\",\"marker\":{\"color\":[\"rgb(7, 58, 32)\",\"rgb(171, 111, 146)\"]},\"orientation\":\"h\",\"textangle\":0,\"textposition\":\"outside\",\"texttemplate\":\"%{y}<br>%{x:.4s}\",\"x\":[4,5],\"y\":[\"Red\",\"Lover\"],\"type\":\"bar\"}],\"layout\":{\"bargap\":0.15,\"font\":{\"size\":14},\"plot_bgcolor\":\"#FFFFFF\",\"title\":{\"text\":\"Top Albums Used for Surprise Songs (US Leg)\"},\"xaxis\":{\"range\":[0,6],\"showline\":true,\"visible\":true},\"yaxis\":{\"showline\":false,\"visible\":true}},\"name\":\"29-Jul-23\"},{\"data\":[{\"cliponaxis\":false,\"hoverinfo\":\"all\",\"hovertemplate\":\"<extra></extra>\",\"marker\":{\"color\":[\"rgb(212, 208, 87)\",\"rgb(144, 87, 131)\"]},\"orientation\":\"h\",\"textangle\":0,\"textposition\":\"outside\",\"texttemplate\":\"%{y}<br>%{x:.4s}\",\"x\":[4,5],\"y\":[\"Speak Now\",\"Midnights\"],\"type\":\"bar\"}],\"layout\":{\"bargap\":0.15,\"font\":{\"size\":14},\"plot_bgcolor\":\"#FFFFFF\",\"title\":{\"text\":\"Top Albums Used for Surprise Songs (US Leg)\"},\"xaxis\":{\"range\":[0,6],\"showline\":true,\"visible\":true},\"yaxis\":{\"showline\":false,\"visible\":true}},\"name\":\"3-Aug-23\"},{\"data\":[{\"cliponaxis\":false,\"hoverinfo\":\"all\",\"hovertemplate\":\"<extra></extra>\",\"marker\":{\"color\":[\"rgb(83, 93, 192)\",\"rgb(130, 136, 219)\"]},\"orientation\":\"h\",\"textangle\":0,\"textposition\":\"outside\",\"texttemplate\":\"%{y}<br>%{x:.4s}\",\"x\":[3,5],\"y\":[\"Fearless\",\"SINGLE\"],\"type\":\"bar\"}],\"layout\":{\"bargap\":0.15,\"font\":{\"size\":14},\"plot_bgcolor\":\"#FFFFFF\",\"title\":{\"text\":\"Top Albums Used for Surprise Songs (US Leg)\"},\"xaxis\":{\"range\":[0,6],\"showline\":true,\"visible\":true},\"yaxis\":{\"showline\":false,\"visible\":true}},\"name\":\"3-Jun-23\"},{\"data\":[{\"cliponaxis\":false,\"hoverinfo\":\"all\",\"hovertemplate\":\"<extra></extra>\",\"marker\":{\"color\":[\"rgb(7, 58, 32)\",\"rgb(93, 75, 201)\"]},\"orientation\":\"h\",\"textangle\":0,\"textposition\":\"outside\",\"texttemplate\":\"%{y}<br>%{x:.4s}\",\"x\":[3,4],\"y\":[\"Red\",\"1989\"],\"type\":\"bar\"}],\"layout\":{\"bargap\":0.15,\"font\":{\"size\":14},\"plot_bgcolor\":\"#FFFFFF\",\"title\":{\"text\":\"Top Albums Used for Surprise Songs (US Leg)\"},\"xaxis\":{\"range\":[0,6],\"showline\":true,\"visible\":true},\"yaxis\":{\"showline\":false,\"visible\":true}},\"name\":\"30-Apr-23\"},{\"data\":[{\"cliponaxis\":false,\"hoverinfo\":\"all\",\"hovertemplate\":\"<extra></extra>\",\"marker\":{\"color\":[\"rgb(236, 99, 109)\",\"rgb(122, 45, 20)\"]},\"orientation\":\"h\",\"textangle\":0,\"textposition\":\"outside\",\"texttemplate\":\"%{y}<br>%{x:.4s}\",\"x\":[4,5],\"y\":[\"Debut (Taylor Swift)\",\"evermore\"],\"type\":\"bar\"}],\"layout\":{\"bargap\":0.15,\"font\":{\"size\":14},\"plot_bgcolor\":\"#FFFFFF\",\"title\":{\"text\":\"Top Albums Used for Surprise Songs (US Leg)\"},\"xaxis\":{\"range\":[0,6],\"showline\":true,\"visible\":true},\"yaxis\":{\"showline\":false,\"visible\":true}},\"name\":\"30-Jun-23\"},{\"data\":[{\"cliponaxis\":false,\"hoverinfo\":\"all\",\"hovertemplate\":\"<extra></extra>\",\"marker\":{\"color\":[\"rgb(7, 58, 32)\",\"rgb(212, 208, 87)\"]},\"orientation\":\"h\",\"textangle\":0,\"textposition\":\"outside\",\"texttemplate\":\"%{y}<br>%{x:.4s}\",\"x\":[2,4],\"y\":[\"Red\",\"Speak Now\"],\"type\":\"bar\"}],\"layout\":{\"bargap\":0.15,\"font\":{\"size\":14},\"plot_bgcolor\":\"#FFFFFF\",\"title\":{\"text\":\"Top Albums Used for Surprise Songs (US Leg)\"},\"xaxis\":{\"range\":[0,6],\"showline\":true,\"visible\":true},\"yaxis\":{\"showline\":false,\"visible\":true}},\"name\":\"31-Mar-23\"},{\"data\":[{\"cliponaxis\":false,\"hoverinfo\":\"all\",\"hovertemplate\":\"<extra></extra>\",\"marker\":{\"color\":[\"rgb(236, 99, 109)\",\"rgb(93, 75, 201)\"]},\"orientation\":\"h\",\"textangle\":0,\"textposition\":\"outside\",\"texttemplate\":\"%{y}<br>%{x:.4s}\",\"x\":[4,5],\"y\":[\"Debut (Taylor Swift)\",\"1989\"],\"type\":\"bar\"}],\"layout\":{\"bargap\":0.15,\"font\":{\"size\":14},\"plot_bgcolor\":\"#FFFFFF\",\"title\":{\"text\":\"Top Albums Used for Surprise Songs (US Leg)\"},\"xaxis\":{\"range\":[0,6],\"showline\":true,\"visible\":true},\"yaxis\":{\"showline\":false,\"visible\":true}},\"name\":\"4-Aug-23\"},{\"data\":[{\"cliponaxis\":false,\"hoverinfo\":\"all\",\"hovertemplate\":\"<extra></extra>\",\"marker\":{\"color\":[\"rgb(144, 87, 131)\",\"rgb(7, 58, 32)\"]},\"orientation\":\"h\",\"textangle\":0,\"textposition\":\"outside\",\"texttemplate\":\"%{y}<br>%{x:.4s}\",\"x\":[3,5],\"y\":[\"Midnights\",\"Red\"],\"type\":\"bar\"}],\"layout\":{\"bargap\":0.15,\"font\":{\"size\":14},\"plot_bgcolor\":\"#FFFFFF\",\"title\":{\"text\":\"Top Albums Used for Surprise Songs (US Leg)\"},\"xaxis\":{\"range\":[0,6],\"showline\":true,\"visible\":true},\"yaxis\":{\"showline\":false,\"visible\":true}},\"name\":\"4-Jun-23\"},{\"data\":[{\"cliponaxis\":false,\"hoverinfo\":\"all\",\"hovertemplate\":\"<extra></extra>\",\"marker\":{\"color\":[\"rgb(171, 111, 146)\",\"rgb(144, 87, 131)\"]},\"orientation\":\"h\",\"textangle\":0,\"textposition\":\"outside\",\"texttemplate\":\"%{y}<br>%{x:.4s}\",\"x\":[4,5],\"y\":[\"Lover\",\"Midnights\"],\"type\":\"bar\"}],\"layout\":{\"bargap\":0.15,\"font\":{\"size\":14},\"plot_bgcolor\":\"#FFFFFF\",\"title\":{\"text\":\"Top Albums Used for Surprise Songs (US Leg)\"},\"xaxis\":{\"range\":[0,6],\"showline\":true,\"visible\":true},\"yaxis\":{\"showline\":false,\"visible\":true}},\"name\":\"5-Aug-23\"},{\"data\":[{\"cliponaxis\":false,\"hoverinfo\":\"all\",\"hovertemplate\":\"<extra></extra>\",\"marker\":{\"color\":[\"rgb(212, 208, 87)\",\"rgb(236, 99, 109)\"]},\"orientation\":\"h\",\"textangle\":0,\"textposition\":\"outside\",\"texttemplate\":\"%{y}<br>%{x:.4s}\",\"x\":[3,4],\"y\":[\"Speak Now\",\"Debut (Taylor Swift)\"],\"type\":\"bar\"}],\"layout\":{\"bargap\":0.15,\"font\":{\"size\":14},\"plot_bgcolor\":\"#FFFFFF\",\"title\":{\"text\":\"Top Albums Used for Surprise Songs (US Leg)\"},\"xaxis\":{\"range\":[0,6],\"showline\":true,\"visible\":true},\"yaxis\":{\"showline\":false,\"visible\":true}},\"name\":\"5-May-23\"},{\"data\":[{\"cliponaxis\":false,\"hoverinfo\":\"all\",\"hovertemplate\":\"<extra></extra>\",\"marker\":{\"color\":[\"rgb(93, 75, 201)\",\"rgb(83, 93, 192)\"]},\"orientation\":\"h\",\"textangle\":0,\"textposition\":\"outside\",\"texttemplate\":\"%{y}<br>%{x:.4s}\",\"x\":[3,4],\"y\":[\"1989\",\"Fearless\"],\"type\":\"bar\"}],\"layout\":{\"bargap\":0.15,\"font\":{\"size\":14},\"plot_bgcolor\":\"#FFFFFF\",\"title\":{\"text\":\"Top Albums Used for Surprise Songs (US Leg)\"},\"xaxis\":{\"range\":[0,6],\"showline\":true,\"visible\":true},\"yaxis\":{\"showline\":false,\"visible\":true}},\"name\":\"6-May-23\"},{\"data\":[{\"cliponaxis\":false,\"hoverinfo\":\"all\",\"hovertemplate\":\"<extra></extra>\",\"marker\":{\"color\":[\"rgb(46, 26, 159)\",\"rgb(142, 65, 234)\"]},\"orientation\":\"h\",\"textangle\":0,\"textposition\":\"outside\",\"texttemplate\":\"%{y}<br>%{x:.4s}\",\"x\":[4,6],\"y\":[\"Reputation\",\"folklore\"],\"type\":\"bar\"}],\"layout\":{\"bargap\":0.15,\"font\":{\"size\":14},\"plot_bgcolor\":\"#FFFFFF\",\"title\":{\"text\":\"Top Albums Used for Surprise Songs (US Leg)\"},\"xaxis\":{\"range\":[0,6],\"showline\":true,\"visible\":true},\"yaxis\":{\"showline\":false,\"visible\":true}},\"name\":\"7-Aug-23\"},{\"data\":[{\"cliponaxis\":false,\"hoverinfo\":\"all\",\"hovertemplate\":\"<extra></extra>\",\"marker\":{\"color\":[\"rgb(212, 208, 87)\",\"rgb(212, 208, 87)\"]},\"orientation\":\"h\",\"textangle\":0,\"textposition\":\"outside\",\"texttemplate\":\"%{y}<br>%{x:.4s}\",\"x\":[4,5],\"y\":[\"Speak Now\",\"Speak Now\"],\"type\":\"bar\"}],\"layout\":{\"bargap\":0.15,\"font\":{\"size\":14},\"plot_bgcolor\":\"#FFFFFF\",\"title\":{\"text\":\"Top Albums Used for Surprise Songs (US Leg)\"},\"xaxis\":{\"range\":[0,6],\"showline\":true,\"visible\":true},\"yaxis\":{\"showline\":false,\"visible\":true}},\"name\":\"7-Jul-23\"},{\"data\":[{\"cliponaxis\":false,\"hoverinfo\":\"all\",\"hovertemplate\":\"<extra></extra>\",\"marker\":{\"color\":[\"rgb(144, 87, 131)\",\"rgb(212, 208, 87)\"]},\"orientation\":\"h\",\"textangle\":0,\"textposition\":\"outside\",\"texttemplate\":\"%{y}<br>%{x:.4s}\",\"x\":[3,4],\"y\":[\"Midnights\",\"Speak Now\"],\"type\":\"bar\"}],\"layout\":{\"bargap\":0.15,\"font\":{\"size\":14},\"plot_bgcolor\":\"#FFFFFF\",\"title\":{\"text\":\"Top Albums Used for Surprise Songs (US Leg)\"},\"xaxis\":{\"range\":[0,6],\"showline\":true,\"visible\":true},\"yaxis\":{\"showline\":false,\"visible\":true}},\"name\":\"7-May-23\"},{\"data\":[{\"cliponaxis\":false,\"hoverinfo\":\"all\",\"hovertemplate\":\"<extra></extra>\",\"marker\":{\"color\":[\"rgb(93, 75, 201)\",\"rgb(46, 26, 159)\"]},\"orientation\":\"h\",\"textangle\":0,\"textposition\":\"outside\",\"texttemplate\":\"%{y}<br>%{x:.4s}\",\"x\":[4,6],\"y\":[\"1989\",\"Reputation\"],\"type\":\"bar\"}],\"layout\":{\"bargap\":0.15,\"font\":{\"size\":14},\"plot_bgcolor\":\"#FFFFFF\",\"title\":{\"text\":\"Top Albums Used for Surprise Songs (US Leg)\"},\"xaxis\":{\"range\":[0,6],\"showline\":true,\"visible\":true},\"yaxis\":{\"showline\":false,\"visible\":true}},\"name\":\"8-Aug-23\"},{\"data\":[{\"cliponaxis\":false,\"hoverinfo\":\"all\",\"hovertemplate\":\"<extra></extra>\",\"marker\":{\"color\":[\"rgb(212, 208, 87)\",\"rgb(122, 45, 20)\"]},\"orientation\":\"h\",\"textangle\":0,\"textposition\":\"outside\",\"texttemplate\":\"%{y}<br>%{x:.4s}\",\"x\":[4,5],\"y\":[\"Speak Now\",\"evermore\"],\"type\":\"bar\"}],\"layout\":{\"bargap\":0.15,\"font\":{\"size\":14},\"plot_bgcolor\":\"#FFFFFF\",\"title\":{\"text\":\"Top Albums Used for Surprise Songs (US Leg)\"},\"xaxis\":{\"range\":[0,6],\"showline\":true,\"visible\":true},\"yaxis\":{\"showline\":false,\"visible\":true}},\"name\":\"8-Jul-23\"},{\"data\":[{\"cliponaxis\":false,\"hoverinfo\":\"all\",\"hovertemplate\":\"<extra></extra>\",\"marker\":{\"color\":[\"rgb(93, 75, 201)\",\"rgb(46, 26, 159)\"]},\"orientation\":\"h\",\"textangle\":0,\"textposition\":\"outside\",\"texttemplate\":\"%{y}<br>%{x:.4s}\",\"x\":[4,6],\"y\":[\"1989\",\"Reputation\"],\"type\":\"bar\"}],\"layout\":{\"bargap\":0.15,\"font\":{\"size\":14},\"plot_bgcolor\":\"#FFFFFF\",\"title\":{\"text\":\"Top Albums Used for Surprise Songs (US Leg)\"},\"xaxis\":{\"range\":[0,6],\"showline\":true,\"visible\":true},\"yaxis\":{\"showline\":false,\"visible\":true}},\"name\":\"9-Aug-23\"},{\"data\":[{\"cliponaxis\":false,\"hoverinfo\":\"all\",\"hovertemplate\":\"<extra></extra>\",\"marker\":{\"color\":[\"rgb(212, 208, 87)\",\"rgb(7, 58, 32)\"]},\"orientation\":\"h\",\"textangle\":0,\"textposition\":\"outside\",\"texttemplate\":\"%{y}<br>%{x:.4s}\",\"x\":[3,5],\"y\":[\"Speak Now\",\"Red\"],\"type\":\"bar\"}],\"layout\":{\"bargap\":0.15,\"font\":{\"size\":14},\"plot_bgcolor\":\"#FFFFFF\",\"title\":{\"text\":\"Top Albums Used for Surprise Songs (US Leg)\"},\"xaxis\":{\"range\":[0,6],\"showline\":true,\"visible\":true},\"yaxis\":{\"showline\":false,\"visible\":true}},\"name\":\"9-Jun-23\"}]);\n",
       "                        }).then(function(){\n",
       "                            \n",
       "var gd = document.getElementById('c6e1c55e-e256-4ef7-9ea4-62d2f2a9c081');\n",
       "var x = new MutationObserver(function (mutations, observer) {{\n",
       "        var display = window.getComputedStyle(gd).display;\n",
       "        if (!display || display === 'none') {{\n",
       "            console.log([gd, 'removed!']);\n",
       "            Plotly.purge(gd);\n",
       "            observer.disconnect();\n",
       "        }}\n",
       "}});\n",
       "\n",
       "// Listen for the removal of the full notebook cells\n",
       "var notebookContainer = gd.closest('#notebook-container');\n",
       "if (notebookContainer) {{\n",
       "    x.observe(notebookContainer, {childList: true});\n",
       "}}\n",
       "\n",
       "// Listen for the clearing of the current output cell\n",
       "var outputEl = gd.closest('.output');\n",
       "if (outputEl) {{\n",
       "    x.observe(outputEl, {childList: true});\n",
       "}}\n",
       "\n",
       "                        })                };                });            </script>        </div>"
      ]
     },
     "metadata": {},
     "output_type": "display_data"
    }
   ],
   "source": [
    "my_raceplot = barplot(all_albums,\n",
    "                      item_column='Album',\n",
    "                      value_column='folklore',\n",
    "                      time_column='CITY')\n",
    "\n",
    "my_raceplot.plot(title = 'Top Albums Used for Surprise Songs (US Leg)',\n",
    "                 item_label = 'Album',\n",
    "                 value_label = 'Number of Surprise Songs Played',\n",
    "                 frame_duration = 800)"
   ]
  },
  {
   "cell_type": "code",
   "execution_count": null,
   "id": "1533a9a0-9585-49e8-a3cd-b6ee5139e343",
   "metadata": {},
   "outputs": [],
   "source": [
    "# fix date column to be in usable format and sort by it\n",
    "# create one column that gets current value of the relevant album... ONE column for all albums "
   ]
  }
 ],
 "metadata": {
  "kernelspec": {
   "display_name": "Python 3 (ipykernel)",
   "language": "python",
   "name": "python3"
  },
  "language_info": {
   "codemirror_mode": {
    "name": "ipython",
    "version": 3
   },
   "file_extension": ".py",
   "mimetype": "text/x-python",
   "name": "python",
   "nbconvert_exporter": "python",
   "pygments_lexer": "ipython3",
   "version": "3.8.18"
  }
 },
 "nbformat": 4,
 "nbformat_minor": 5
}
